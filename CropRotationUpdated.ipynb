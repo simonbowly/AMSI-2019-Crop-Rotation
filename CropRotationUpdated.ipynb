{
 "cells": [
  {
   "cell_type": "markdown",
   "metadata": {
    "slideshow": {
     "slide_type": "slide"
    }
   },
   "source": [
    "# Crop Rotation and Production Planning\n",
    "\n",
    "## Modelling with Julia/JuMP"
   ]
  },
  {
   "cell_type": "markdown",
   "metadata": {
    "slideshow": {
     "slide_type": "subslide"
    }
   },
   "source": [
    "## TODO\n",
    "\n",
    "* Add general intro to Julia/JuMP, show math/latex/juMP side by side (as slides).\n",
    "* Should we do this as slides/walkthrough/play along at home?\n",
    "* Crop rotation problem has more complexity that could be added.\n",
    "* Area assignment problem always produces single crop schedules (fixing above will probably help).\n",
    "\n",
    "# Additional Constraints\n",
    "\n",
    "* Rotation example over 12 months.\n",
    "* Restricted planting times (range - index variables).\n",
    "* Single column generation model - minimise used area with naive initial columns."
   ]
  },
  {
   "cell_type": "markdown",
   "metadata": {
    "slideshow": {
     "slide_type": "slide"
    }
   },
   "source": [
    "# Part 1: Generating Feasible Crop Schedules\n",
    "\n",
    "Our model defines feasible crop rotation schedules on a single plot.\n",
    "\n",
    "The constraints enforce that:\n",
    "* only one crop is planted in each period (with variable planting durations),\n",
    "* crops of the same family do not follow one another,\n",
    "* one green manuring crop is planted, and\n",
    "* there is one period of fallow.\n",
    "\n",
    "(This is a simplified model with no restrictions on planting times)."
   ]
  },
  {
   "cell_type": "markdown",
   "metadata": {
    "slideshow": {
     "slide_type": "subslide"
    }
   },
   "source": [
    "## Mixed Integer Programming Model\n",
    "\n",
    "This set of variables and constraints defines all feasible crop rotation schedules.\n",
    "\n",
    "\\begin{alignat*}{2}\n",
    "& \\sum_{i=1}^{n} \\sum_{r=0}^{t_i-1} x_{i,j-r} \\le 1, \\quad j = 1 \\dots M, \\\\\n",
    "& \\sum_{i \\in F_p} \\sum_{r=0}^{t_i} x_{i,j-r} \\le 1, \\quad p = 1 \\dots NF,\\, j = 1 \\dots M, \\\\\n",
    "& \\sum_{i\\in G} \\sum_{j=1}^{M} x_{i,j} \\le 1, \\\\\n",
    "& \\sum_{j=1}^{M} x_{nj} = 1, \\\\\n",
    "& x_{ij} \\in \\lbrace 0, 1 \\rbrace, \\quad i = 1 \\dots n,\\, j = 1 \\dots M  \\\\\n",
    "\\end{alignat*}"
   ]
  },
  {
   "cell_type": "markdown",
   "metadata": {
    "slideshow": {
     "slide_type": "slide"
    }
   },
   "source": [
    "## Solving the Model with JuMP"
   ]
  },
  {
   "cell_type": "markdown",
   "metadata": {},
   "source": [
    "JuMP provides the general MIP modelling interface."
   ]
  },
  {
   "cell_type": "code",
   "execution_count": 2,
   "metadata": {},
   "outputs": [],
   "source": [
    "using JuMP"
   ]
  },
  {
   "cell_type": "markdown",
   "metadata": {},
   "source": [
    "In this case, Clp/Cbc handle the solving the problems we formulate.\n",
    "This can be replaced by any suitable solver:\n",
    "\n",
    "* GPLK\n",
    "* Gurobi\n",
    "* SCIP\n",
    "* ..."
   ]
  },
  {
   "cell_type": "code",
   "execution_count": 3,
   "metadata": {},
   "outputs": [
    {
     "name": "stderr",
     "output_type": "stream",
     "text": [
      "┌ Info: Precompiling Clp [e2554f3b-3117-50c0-817c-e040a3ddf72d]\n",
      "└ @ Base loading.jl:1192\n"
     ]
    }
   ],
   "source": [
    "using Clp, Cbc"
   ]
  },
  {
   "cell_type": "markdown",
   "metadata": {
    "slideshow": {
     "slide_type": "subslide"
    }
   },
   "source": [
    "## Problem Data\n",
    "\n",
    "First define our problem data using Julia arrays.\n",
    "\n",
    "Those who've used MATLAB or Python before should find this syntax quite familiar."
   ]
  },
  {
   "cell_type": "code",
   "execution_count": 6,
   "metadata": {},
   "outputs": [],
   "source": [
    "M = 8                 # Periods in the rotation.\n",
    "C = 1:2               # Productive crops.\n",
    "G = [3]               # Green manuring crops.\n",
    "N = 4                 # Total crop types including fallow period.\n",
    "F = [[1, 2], [3]]     # Crop families.\n",
    "t = [2, 3, 2, 1];     # Time to yield for each crop."
   ]
  },
  {
   "cell_type": "markdown",
   "metadata": {
    "slideshow": {
     "slide_type": "subslide"
    }
   },
   "source": [
    "### Modelling with Binary Variables\n",
    "\n",
    "Begin the model with binary variables $x_{ij}$ (crop i planted in period j)."
   ]
  },
  {
   "cell_type": "code",
   "execution_count": 17,
   "metadata": {},
   "outputs": [
    {
     "data": {
      "text/latex": [
       "$$ x_{i,j} \\in \\{0,1\\} \\quad\\forall i \\in \\{1,2,3,4\\}, j \\in \\{1,2,\\dots,7,8\\} $$"
      ],
      "text/plain": [
       "4×8 Array{Variable,2}:\n",
       " x[1,1]  x[1,2]  x[1,3]  x[1,4]  x[1,5]  x[1,6]  x[1,7]  x[1,8]\n",
       " x[2,1]  x[2,2]  x[2,3]  x[2,4]  x[2,5]  x[2,6]  x[2,7]  x[2,8]\n",
       " x[3,1]  x[3,2]  x[3,3]  x[3,4]  x[3,5]  x[3,6]  x[3,7]  x[3,8]\n",
       " x[4,1]  x[4,2]  x[4,3]  x[4,4]  x[4,5]  x[4,6]  x[4,7]  x[4,8]"
      ]
     },
     "execution_count": 17,
     "metadata": {},
     "output_type": "execute_result"
    }
   ],
   "source": [
    "model = Model(solver=CbcSolver())\n",
    "@variable(model, x[i in 1:N, j in 1:M], Bin)"
   ]
  },
  {
   "cell_type": "markdown",
   "metadata": {
    "slideshow": {
     "slide_type": "subslide"
    }
   },
   "source": [
    "### No overlap of crop plantings"
   ]
  },
  {
   "cell_type": "code",
   "execution_count": 29,
   "metadata": {},
   "outputs": [
    {
     "data": {
      "text/latex": [
       "$$ x_{1,1} + x_{1,8} + x_{2,1} + x_{2,8} + x_{2,7} + x_{3,1} + x_{3,8} + x_{4,1} \\leq 1 $$"
      ],
      "text/plain": [
       "x[1,1] + x[1,8] + x[2,1] + x[2,8] + x[2,7] + x[3,1] + x[3,8] + x[4,1] ≤ 1"
      ]
     },
     "execution_count": 29,
     "metadata": {},
     "output_type": "execute_result"
    }
   ],
   "source": [
    "j = 1\n",
    "@constraint(model, sum(\n",
    "    sum(x[i, mod(j - r - 1, M) + 1] for r in 0:t[i]-1)\n",
    "    for i in 1:N) <= 1)"
   ]
  },
  {
   "cell_type": "markdown",
   "metadata": {},
   "source": [
    "Crops 1 and 3 last for two periods, while crop 2 lasts for three periods.\n",
    "This constraint correctly specifies that the following choices are mutually exclusive:\n",
    "* Planting crop 1 in periods 1 or 8\n",
    "* Planting crop 2 in periods 1, 7, or 8\n",
    "* Planting crop 3 in periods 1 or 8\n",
    "* Planting no crop (fallow) to period 1"
   ]
  },
  {
   "cell_type": "markdown",
   "metadata": {
    "slideshow": {
     "slide_type": "subslide"
    }
   },
   "source": [
    "The following code generates these constraints for every planting period:"
   ]
  },
  {
   "cell_type": "code",
   "execution_count": 19,
   "metadata": {
    "slideshow": {
     "slide_type": "-"
    }
   },
   "outputs": [],
   "source": [
    "@constraint(\n",
    "    model, [j in 1:M],\n",
    "    sum(\n",
    "        sum(x[i, mod(j - r - 1, M) + 1] for r in 0:t[i]-1)\n",
    "        for i in 1:N) <= 1);"
   ]
  },
  {
   "cell_type": "markdown",
   "metadata": {
    "slideshow": {
     "slide_type": "subslide"
    }
   },
   "source": [
    "### Crops of the same family may not be planted after one another.\n",
    "\n",
    "Inspect the expression generated for period 1 and family 1 (containing production crops 1 and 2)."
   ]
  },
  {
   "cell_type": "code",
   "execution_count": 20,
   "metadata": {},
   "outputs": [
    {
     "data": {
      "text/latex": [
       "$$ x_{1,1} + x_{1,8} + x_{1,7} + x_{2,1} + x_{2,8} + x_{2,7} + x_{2,6} \\leq 1 $$"
      ],
      "text/plain": [
       "x[1,1] + x[1,8] + x[1,7] + x[2,1] + x[2,8] + x[2,7] + x[2,6] ≤ 1"
      ]
     },
     "execution_count": 20,
     "metadata": {},
     "output_type": "execute_result"
    }
   ],
   "source": [
    "p = 1\n",
    "j = 1\n",
    "@constraint(\n",
    "    model, sum(\n",
    "        sum(x[i, mod(j - r - 1, M) + 1] for r in 0:t[i])\n",
    "        for i in F[p]) <= 1)"
   ]
  },
  {
   "cell_type": "markdown",
   "metadata": {},
   "source": [
    "This expression extends the crop overlap constraint *for this specific family of crops* by one period, thus enforcing a break of at least one period between plantings of these crops.\n",
    "Therefore the following additional choices are mutually exclusive:\n",
    "* Planting crop 1 in periods 1, 7, or 8\n",
    "* Planting crop 2 in periods 1, 6, 7, or 8"
   ]
  },
  {
   "cell_type": "markdown",
   "metadata": {
    "slideshow": {
     "slide_type": "subslide"
    }
   },
   "source": [
    "This constraint is added to the model for every planting period and every crop family:"
   ]
  },
  {
   "cell_type": "code",
   "execution_count": 21,
   "metadata": {},
   "outputs": [],
   "source": [
    "@constraint(\n",
    "    model, [p in 1:length(F), j in 1:M],\n",
    "    sum(\n",
    "        sum(x[i, mod(j - r - 1, M) + 1] for r in 0:t[i])\n",
    "        for i in F[p]) <= 1);"
   ]
  },
  {
   "cell_type": "markdown",
   "metadata": {
    "slideshow": {
     "slide_type": "subslide"
    }
   },
   "source": [
    "### One green manure crop and one period of fallow required."
   ]
  },
  {
   "cell_type": "code",
   "execution_count": 22,
   "metadata": {},
   "outputs": [
    {
     "data": {
      "text/latex": [
       "$$ x_{3,1} + x_{3,2} + x_{3,3} + x_{3,4} + x_{3,5} + x_{3,6} + x_{3,7} + x_{3,8} = 1 $$"
      ],
      "text/plain": [
       "x[3,1] + x[3,2] + x[3,3] + x[3,4] + x[3,5] + x[3,6] + x[3,7] + x[3,8] = 1"
      ]
     },
     "execution_count": 22,
     "metadata": {},
     "output_type": "execute_result"
    }
   ],
   "source": [
    "@constraint(model, sum(sum(x[i, j] for j in 1:M) for i in G) == 1)"
   ]
  },
  {
   "cell_type": "code",
   "execution_count": 23,
   "metadata": {},
   "outputs": [
    {
     "data": {
      "text/latex": [
       "$$ x_{4,1} + x_{4,2} + x_{4,3} + x_{4,4} + x_{4,5} + x_{4,6} + x_{4,7} + x_{4,8} = 1 $$"
      ],
      "text/plain": [
       "x[4,1] + x[4,2] + x[4,3] + x[4,4] + x[4,5] + x[4,6] + x[4,7] + x[4,8] = 1"
      ]
     },
     "execution_count": 23,
     "metadata": {},
     "output_type": "execute_result"
    }
   ],
   "source": [
    "@constraint(model, sum(x[N, j] for j in 1:M) == 1)"
   ]
  },
  {
   "cell_type": "markdown",
   "metadata": {
    "slideshow": {
     "slide_type": "subslide"
    }
   },
   "source": [
    "## Solve with a simple objective function.\n",
    "\n",
    "Below assigns a simple objective function to maximise weighted production.\n",
    "Since we used a small example data set we can inspect the generated model to see if our expressions are correct."
   ]
  },
  {
   "cell_type": "code",
   "execution_count": 24,
   "metadata": {},
   "outputs": [],
   "source": [
    "@objective(model, Max, sum(x[1,j] for j in 1:M) + 2 * sum(x[2,j] for j in 1:M));"
   ]
  },
  {
   "cell_type": "markdown",
   "metadata": {
    "slideshow": {
     "slide_type": "slide"
    }
   },
   "source": [
    "## Solve the resulting model and display the solution"
   ]
  },
  {
   "cell_type": "code",
   "execution_count": 10,
   "metadata": {},
   "outputs": [
    {
     "data": {
      "text/plain": [
       ":Optimal"
      ]
     },
     "execution_count": 10,
     "metadata": {},
     "output_type": "execute_result"
    }
   ],
   "source": [
    "solve(model)"
   ]
  },
  {
   "cell_type": "code",
   "execution_count": 11,
   "metadata": {},
   "outputs": [
    {
     "name": "stdout",
     "output_type": "stream",
     "text": [
      "Schedule:   | |F|1| |3| |2| |\n",
      "Production: [1.0, 1.0]\n"
     ]
    }
   ],
   "source": [
    "# Return a string representation of the resulting crop planting times.\n",
    "function get_schedule(x, M, N)\n",
    "    schedule = \"\"\n",
    "    for j in 1:M\n",
    "        selected_crop = [i for i in 1:N if getvalue(x[i, j]) > 0.999]\n",
    "        if length(selected_crop) > 0\n",
    "            if selected_crop[1] == N\n",
    "                schedule = string(schedule, \"|\", \"F\")\n",
    "            else\n",
    "                schedule = string(schedule, \"|\", selected_crop[1])\n",
    "            end\n",
    "        else\n",
    "            schedule = string(schedule, \"| \")\n",
    "        end\n",
    "    end\n",
    "    schedule = string(schedule, \"|\")\n",
    "end\n",
    "\n",
    "# Returns the number of plantings of each crop in this schedule.\n",
    "function get_production(x, M, C)\n",
    "    [sum(getvalue(x[i, j]) for j in 1:M) for i in C]\n",
    "end\n",
    "\n",
    "println(\"Schedule:   \", get_schedule(x, M, N))\n",
    "println(\"Production: \", get_production(x, M, C))\n",
    "            "
   ]
  },
  {
   "cell_type": "markdown",
   "metadata": {
    "slideshow": {
     "slide_type": "slide"
    }
   },
   "source": [
    "# Part 2: Assigning schedules to plot areas\n",
    "\n",
    "Generate crop schedules $k \\in K$ which produce $c_{ik}$ of crop $i$ per unit area.\n",
    "In the phase 1 problem we assign areas $a_k$ to schedules in order to minimise uncovered demand.\n",
    "\n",
    "The restricted master problem for the current set of columns is:\n",
    "\n",
    "\\begin{alignat*}{2}\n",
    "& \\min \\,\\, \\sum_{i \\in C} s_{i} \\\\\n",
    "& \\sum c_{ik} a_{k} + s_{i} \\ge d_{i}, \\quad i \\in C \\\\\n",
    "& a_{k} \\ge 0, \\quad k \\in K \\\\\n",
    "& s_{i} \\ge 0, \\quad i \\in C \\\\\n",
    "\\end{alignat*}\n",
    "\n",
    "The subproblem searches for feasible crop schedules with the following objective:\n",
    "\n",
    "\\begin{alignat*}{2}\n",
    "& \\max \\,\\, \\sum_{i \\in C} \\sum_{i=1}^{m} \\lambda_{i} x_{ij} \\\\\n",
    "\\end{alignat*}\n",
    "\n",
    "where $\\lambda_i$ are the dual variables associated with the demand coverage constraints."
   ]
  },
  {
   "cell_type": "code",
   "execution_count": 12,
   "metadata": {
    "slideshow": {
     "slide_type": "subslide"
    }
   },
   "outputs": [],
   "source": [
    "# Crop rotation schedule data.\n",
    "M = 12     # Periods in the rotation.\n",
    "C = 1:6    # Production crops.\n",
    "G = 7:8    # Green manuring crops.\n",
    "N = 9      # Total crop types including fallow period.\n",
    "F = [[1, 2], [3, 4], [5, 6], [7, 8]]   # Crop families 1-4.\n",
    "t = [4, 3, 3, 4, 3, 3, 3, 2, 1]        # Time to yield.\n",
    "\n",
    "# Demand to be satisfied.\n",
    "d = [1, 1, 1, 1, 0, 0];"
   ]
  },
  {
   "cell_type": "markdown",
   "metadata": {
    "slideshow": {
     "slide_type": "subslide"
    }
   },
   "source": [
    "## Define pricing problem as a callable function"
   ]
  },
  {
   "cell_type": "code",
   "execution_count": 13,
   "metadata": {},
   "outputs": [
    {
     "data": {
      "text/plain": [
       "price_crop_rotation (generic function with 1 method)"
      ]
     },
     "execution_count": 13,
     "metadata": {},
     "output_type": "execute_result"
    }
   ],
   "source": [
    "# Construct and solve a crop schedule feasibility model with\n",
    "# the given objective values applied to each crop type.\n",
    "function price_crop_rotation(L)\n",
    "    model = Model(solver=CbcSolver())\n",
    "    @variable(model, x[i in 1:N, j in 1:M], Bin)\n",
    "    @constraint(\n",
    "        model, single_crop[j in 1:M],\n",
    "        sum(\n",
    "            sum(x[i, mod(j - r - 1, M) + 1] for r in 0:t[i]-1)\n",
    "            for i in 1:N) <= 1)\n",
    "    @constraint(\n",
    "        model, crop_family[p in length(F), j in 1:M],\n",
    "        sum(\n",
    "            sum(x[i, mod(j - r - 1, M) + 1] for r in 0:t[i])\n",
    "            for i in F[p]) <= 1)\n",
    "    @constraint(\n",
    "        model, green_manure,\n",
    "        sum(sum(x[i, j] for j in 1:M) for i in G) == 1)\n",
    "    @constraint(\n",
    "        model, fallow,\n",
    "        sum(x[N, j] for j in 1:M) == 1)\n",
    "    @objective(model, Max, sum(L[i] * x[i, j] for i in C for j in 1:M))\n",
    "    solve(model)\n",
    "    getobjectivevalue(model), get_production(x, M, C), get_schedule(x, M, N)\n",
    "end"
   ]
  },
  {
   "cell_type": "markdown",
   "metadata": {
    "slideshow": {
     "slide_type": "subslide"
    }
   },
   "source": [
    "### Generate a column to start with.\n",
    "\n",
    "We are solving for a feasible area assignment first, so we generate any old column.\n",
    "In this case, we get a schedule which plants crops 2 and 3.\n",
    "We'll start solving the restricted master problem using this single column."
   ]
  },
  {
   "cell_type": "code",
   "execution_count": 14,
   "metadata": {
    "scrolled": true
   },
   "outputs": [
    {
     "data": {
      "text/plain": [
       "1-element Array{Dict{String,Any},1}:\n",
       " Dict(\"production\"=>[0.0, 2.0, 1.0, 0.0, 0.0, 0.0],\"schedule\"=>\"|2| | |3| | |F|2| | |8| |\")"
      ]
     },
     "execution_count": 14,
     "metadata": {},
     "output_type": "execute_result"
    }
   ],
   "source": [
    "# Create an initial column and store the associated data.\n",
    "# The pricing problem gives feasible crop rotation schedules\n",
    "# so we can use any objective function to generate columns.\n",
    "objective, production, schedule = price_crop_rotation(d)\n",
    "columns = [Dict(\"production\" => production, \"schedule\" => schedule)]"
   ]
  },
  {
   "cell_type": "markdown",
   "metadata": {
    "scrolled": true
   },
   "source": [
    "### Construct the initial master problem with the available crop schedules."
   ]
  },
  {
   "cell_type": "code",
   "execution_count": 15,
   "metadata": {},
   "outputs": [
    {
     "data": {
      "text/latex": [
       "$$ \\begin{alignat*}{1}\\min\\quad & s_{1} + s_{2} + s_{3} + s_{4} + s_{5} + s_{6}\\\\\n",
       "\\text{Subject to} \\quad & s_{1} \\geq 1\\\\\n",
       " & 2 a_{1} + s_{2} \\geq 1\\\\\n",
       " & a_{1} + s_{3} \\geq 1\\\\\n",
       " & s_{4} \\geq 1\\\\\n",
       " & s_{5} \\geq 0\\\\\n",
       " & s_{6} \\geq 0\\\\\n",
       " & a_{i} \\geq 0 \\quad\\forall i \\in \\{1\\}\\\\\n",
       " & s_{j} \\geq 0 \\quad\\forall j \\in \\{1,2,\\dots,5,6\\}\\\\\n",
       "\\end{alignat*}\n",
       " $$"
      ],
      "text/plain": [
       "Minimization problem with:\n",
       " * 6 linear constraints\n",
       " * 7 variables\n",
       "Solver is Clp"
      ]
     },
     "execution_count": 15,
     "metadata": {},
     "output_type": "execute_result"
    }
   ],
   "source": [
    "master_model = Model(solver=ClpSolver())\n",
    "@variable(master_model, a[i in 1:length(columns)] >= 0)\n",
    "@variable(master_model, s[j in 1:length(d)] >= 0)\n",
    "\n",
    "# Capture the area variables along with the stored column data.\n",
    "for i in 1:length(columns)\n",
    "    columns[i][\"area\"] = a[i]\n",
    "end\n",
    "\n",
    "# Uses the production associated with each column to generate coverage constraint.\n",
    "# Note that this creates an object demand_covered which represents the constraint;\n",
    "# we can use this to get dual values later.\n",
    "@constraint(\n",
    "    master_model, demand_covered[j in 1:length(d)],\n",
    "    sum(columns[i][\"production\"][j] * a[i] for i in 1:length(columns)) + s[j] >= d[j])\n",
    "@objective(master_model, Min, sum(s))\n",
    "master_model"
   ]
  },
  {
   "cell_type": "markdown",
   "metadata": {},
   "source": [
    "### Obtain the dual values and solve the pricing problem to generate a new column.\n",
    "\n",
    "An extra schedule is added which produces crop 1, resulting in a new variable z added to the master problem which can satisfy demand for that crop."
   ]
  },
  {
   "cell_type": "code",
   "execution_count": 16,
   "metadata": {
    "scrolled": false
   },
   "outputs": [
    {
     "name": "stdout",
     "output_type": "stream",
     "text": [
      "[2.0, 0.0, 0.0, 0.0, 0.0, 0.0]\n",
      "|F|1| | | | |8| |1| | | |\n"
     ]
    },
    {
     "data": {
      "text/latex": [
       "$$ \\begin{alignat*}{1}\\min\\quad & s_{1} + s_{2} + s_{3} + s_{4} + s_{5} + s_{6}\\\\\n",
       "\\text{Subject to} \\quad & s_{1} + 2 z \\geq 1\\\\\n",
       " & 2 a_{1} + s_{2} \\geq 1\\\\\n",
       " & a_{1} + s_{3} \\geq 1\\\\\n",
       " & s_{4} \\geq 1\\\\\n",
       " & s_{5} \\geq 0\\\\\n",
       " & s_{6} \\geq 0\\\\\n",
       " & a_{i} \\geq 0 \\quad\\forall i \\in \\{1\\}\\\\\n",
       " & s_{j} \\geq 0 \\quad\\forall j \\in \\{1,2,\\dots,5,6\\}\\\\\n",
       " & z \\geq 0\\\\\n",
       "\\end{alignat*}\n",
       " $$"
      ],
      "text/plain": [
       "Minimization problem with:\n",
       " * 6 linear constraints\n",
       " * 8 variables\n",
       "Solver is Clp"
      ]
     },
     "execution_count": 16,
     "metadata": {},
     "output_type": "execute_result"
    }
   ],
   "source": [
    "solve(master_model)\n",
    "objective, production, schedule = price_crop_rotation(getdual(demand_covered))\n",
    "println(production)\n",
    "println(schedule)\n",
    "@variable(\n",
    "    master_model, z >= 0, objective=0.0,\n",
    "    inconstraints=demand_covered, coefficients=production)\n",
    "# Store the master variable and associated data of the new column.\n",
    "push!(columns, Dict(\"production\" => production, \"schedule\" => schedule, \"area\" => z))\n",
    "master_model"
   ]
  },
  {
   "cell_type": "markdown",
   "metadata": {},
   "source": [
    "### Iterate until no improving column can be generated\n",
    "\n",
    "The loop below runs the column generation loop to optimality, i.e. until the optimal objective value of the pricing problem is less than or equal to 1."
   ]
  },
  {
   "cell_type": "code",
   "execution_count": 17,
   "metadata": {},
   "outputs": [
    {
     "data": {
      "text/plain": [
       "\"COLUMN ADDED\""
      ]
     },
     "metadata": {},
     "output_type": "display_data"
    },
    {
     "data": {
      "text/plain": [
       "Dict{String,Any} with 3 entries:\n",
       "  \"production\" => [0.0, 0.0, 0.0, 2.0, 0.0, 0.0]\n",
       "  \"area\"       => z\n",
       "  \"schedule\"   => \"| |4| | | |F|4| | | |8| |\""
      ]
     },
     "metadata": {},
     "output_type": "display_data"
    },
    {
     "data": {
      "text/plain": [
       "\"DONE\""
      ]
     },
     "metadata": {},
     "output_type": "display_data"
    }
   ],
   "source": [
    "while true\n",
    "    solve(master_model)\n",
    "    objective, production, schedule = price_crop_rotation(getdual(demand_covered))\n",
    "    if objective <= 1\n",
    "        display(\"DONE\")\n",
    "        break\n",
    "    end\n",
    "    @variable(\n",
    "        master_model, z >= 0, objective=0.0,\n",
    "        inconstraints=demand_covered, coefficients=production)\n",
    "    new_column = Dict(\"production\" => production, \"schedule\" => schedule, \"area\" => z)\n",
    "    push!(columns, new_column)\n",
    "    display(\"COLUMN ADDED\")\n",
    "    display(new_column)\n",
    "end"
   ]
  },
  {
   "cell_type": "markdown",
   "metadata": {},
   "source": [
    "### View the resulting schedules\n",
    "\n",
    "We can see that this assignment over-covers demand for crop 2, so we may be able to add additional columns to reduce area."
   ]
  },
  {
   "cell_type": "code",
   "execution_count": 18,
   "metadata": {},
   "outputs": [
    {
     "name": "stdout",
     "output_type": "stream",
     "text": [
      "|2| | |3| | |F|2| | |8| |   AREA = 1.0\n",
      "|F|1| | | | |8| |1| | | |   AREA = 0.5\n",
      "| |4| | | |F|4| | | |8| |   AREA = 0.5\n"
     ]
    }
   ],
   "source": [
    "for column in columns\n",
    "    println(column[\"schedule\"], \"   AREA = \", getvalue(column[\"area\"]))\n",
    "end"
   ]
  },
  {
   "cell_type": "markdown",
   "metadata": {},
   "source": [
    "## From this feasible solution, minimise area\n",
    "\n",
    "Modify the restricted master problem to:\n",
    "\n",
    "\\begin{alignat*}{2}\n",
    "& \\min \\,\\, \\sum_{k \\in K} a_{k} \\\\\n",
    "& \\sum c_{ik} a_{k} \\ge d_{i}, \\quad i \\in C \\\\\n",
    "& a_{k} \\ge 0, \\quad k \\in K \\\\\n",
    "\\end{alignat*}\n",
    "\n",
    "`@objective` can be used to alter the objective in the current master problem, while an additional constraint is added which fixes the uncovered demand variables to zero.\n",
    "This allows the current state of the problem to be kept (simplex will restart from our current feasible basis)."
   ]
  },
  {
   "cell_type": "code",
   "execution_count": 19,
   "metadata": {
    "scrolled": true
   },
   "outputs": [
    {
     "data": {
      "text/plain": [
       "\"COLUMN ADDED\""
      ]
     },
     "metadata": {},
     "output_type": "display_data"
    },
    {
     "data": {
      "text/plain": [
       "Dict{String,Any} with 3 entries:\n",
       "  \"production\" => [0.0, 0.0, 3.0, 0.0, 0.0, 0.0]\n",
       "  \"area\"       => z\n",
       "  \"schedule\"   => \"|3| | |F|8| |3| | |3| | |\""
      ]
     },
     "metadata": {},
     "output_type": "display_data"
    },
    {
     "data": {
      "text/plain": [
       "\"COLUMN ADDED\""
      ]
     },
     "metadata": {},
     "output_type": "display_data"
    },
    {
     "data": {
      "text/plain": [
       "Dict{String,Any} with 3 entries:\n",
       "  \"production\" => [0.0, 3.0, 0.0, 0.0, 0.0, 0.0]\n",
       "  \"area\"       => z\n",
       "  \"schedule\"   => \"|2| | |F|8| |2| | |2| | |\""
      ]
     },
     "metadata": {},
     "output_type": "display_data"
    },
    {
     "data": {
      "text/plain": [
       "\"DONE\""
      ]
     },
     "metadata": {},
     "output_type": "display_data"
    }
   ],
   "source": [
    "# Alter the objective to minimise area.\n",
    "@objective(master_model, Min, sum(column[\"area\"] for column in columns))\n",
    "@constraint(master_model, [j in 1:length(d)], s[j] == 0)\n",
    "\n",
    "# Run column generation loop to optimality.\n",
    "while true\n",
    "    solve(master_model)\n",
    "    objective, production, schedule = price_crop_rotation(getdual(demand_covered))\n",
    "    if objective <= 1\n",
    "        display(\"DONE\")\n",
    "        break\n",
    "    end\n",
    "    @variable(\n",
    "        master_model, z >= 0, objective=0.0,\n",
    "        inconstraints=demand_covered, coefficients=production)\n",
    "    new_column = Dict(\"production\" => production, \"schedule\" => schedule, \"area\" => z)\n",
    "    push!(columns, new_column)\n",
    "    display(\"COLUMN ADDED\")\n",
    "    display(new_column)\n",
    "end"
   ]
  },
  {
   "cell_type": "markdown",
   "metadata": {},
   "source": [
    "### Final result\n",
    "\n",
    "The second column generation loop adds new production schedules for crops 2 and 3.\n",
    "We get a boring solution though..."
   ]
  },
  {
   "cell_type": "code",
   "execution_count": 20,
   "metadata": {},
   "outputs": [
    {
     "name": "stdout",
     "output_type": "stream",
     "text": [
      "|2| | |3| | |F|2| | |8| |   AREA = 0.0\n",
      "|F|1| | | | |8| |1| | | |   AREA = 0.5\n",
      "| |4| | | |F|4| | | |8| |   AREA = 0.5\n",
      "|3| | |F|8| |3| | |3| | |   AREA = 0.3333333333333333\n",
      "|2| | |F|8| |2| | |2| | |   AREA = 0.3333333333333333\n"
     ]
    }
   ],
   "source": [
    "for column in columns\n",
    "    println(column[\"schedule\"], \"   AREA = \", getvalue(column[\"area\"]))\n",
    "end"
   ]
  },
  {
   "cell_type": "code",
   "execution_count": null,
   "metadata": {},
   "outputs": [],
   "source": []
  }
 ],
 "metadata": {
  "@webio": {
   "lastCommId": null,
   "lastKernelId": null
  },
  "celltoolbar": "Slideshow",
  "kernelspec": {
   "display_name": "Julia 1.0.4",
   "language": "julia",
   "name": "julia-1.0"
  },
  "language_info": {
   "file_extension": ".jl",
   "mimetype": "application/julia",
   "name": "julia",
   "version": "1.0.4"
  }
 },
 "nbformat": 4,
 "nbformat_minor": 2
}
