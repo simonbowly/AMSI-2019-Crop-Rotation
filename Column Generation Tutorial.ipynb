{
 "cells": [
  {
   "cell_type": "markdown",
   "metadata": {
    "slideshow": {
     "slide_type": "skip"
    }
   },
   "source": [
    "Omitted these sections from the slides - they just set up components already defined in the `Crop Rotation Tutorial` notebook."
   ]
  },
  {
   "cell_type": "code",
   "execution_count": 1,
   "metadata": {
    "slideshow": {
     "slide_type": "skip"
    }
   },
   "outputs": [
    {
     "data": {
      "text/plain": [
       "get_production (generic function with 1 method)"
      ]
     },
     "execution_count": 1,
     "metadata": {},
     "output_type": "execute_result"
    }
   ],
   "source": [
    "using JuMP\n",
    "using GLPKMathProgInterface\n",
    "\n",
    "crop = [\"A\", \"B\", \"C\"]\n",
    "\n",
    "function get_action(x, j, M, N)\n",
    "    plant = [i for i in 1:N if j in I[i] && getvalue(x[i, j]) == 1]\n",
    "    if length(plant) > 0\n",
    "        return plant[1]\n",
    "    else\n",
    "        harvest = [\n",
    "            crop[i] for i in 1:N for r in 1:(t[i] - 1)\n",
    "            if mod(j - r - 1, M) + 1 in I[i]\n",
    "            && getvalue(x[i, mod(j - r - 1, M) + 1]) == 1]\n",
    "        if length(harvest) > 0\n",
    "            return \"-\"\n",
    "        end\n",
    "    end\n",
    "    return \" \"\n",
    "end\n",
    "\n",
    "function get_schedule(x, M, N)\n",
    "    \"|\" * join([get_action(x, j, M, N) for j in 1:M], \"|\") * \"|\"\n",
    "end\n",
    "\n",
    "function get_production(x, M, N)\n",
    "    [sum(getvalue(x[i, j]) for j in I[i]) for i in 1:N]\n",
    "end"
   ]
  },
  {
   "cell_type": "markdown",
   "metadata": {
    "slideshow": {
     "slide_type": "slide"
    }
   },
   "source": [
    "# Part 2: Assigning schedules to plot areas\n",
    "\n",
    "Generate crop schedules $k \\in K$ which produce $a_{ik}$ units of crop $i$ per unit area.\n",
    "By assigning areas to schedules, we minimise land use required to satisfy the given demand.\n",
    "\n",
    "\\begin{alignat*}{2}\n",
    "& \\min \\,\\, \\sum_{k \\in K} \\lambda_{k} \\\\\n",
    "& \\sum a_{ik} \\lambda_{k} \\ge d_{i}, \\quad i = 1 \\dots N \\\\\n",
    "& \\lambda_{k} \\ge 0, \\quad k \\in K \\\\\n",
    "\\end{alignat*}\n",
    "\n",
    "The subproblem searches for feasible crop schedules with the following objective:\n",
    "\n",
    "\\begin{alignat*}{2}\n",
    "& z = \\min \\,\\, 1 - \\sum_{i = 1}^{N} \\sum_{j \\in I[i]} \\pi_{i} x_{ij} \\\\\n",
    "\\end{alignat*}\n",
    "\n",
    "where $\\pi_i$ are the dual variables associated with the demand coverage constraints."
   ]
  },
  {
   "cell_type": "markdown",
   "metadata": {
    "slideshow": {
     "slide_type": "subslide"
    }
   },
   "source": [
    "## Define problem data"
   ]
  },
  {
   "cell_type": "code",
   "execution_count": 2,
   "metadata": {
    "slideshow": {
     "slide_type": "-"
    }
   },
   "outputs": [],
   "source": [
    "# Crop rotation schedule data.\n",
    "M = 12             # Number of periods considered in the 12 month rotation.\n",
    "N = 3              # Number of crops.\n",
    "G = [3]            # Set of green manuring crops.\n",
    "F = [[1, 2], [3]]  # Set of crop families.\n",
    "t = [5, 4, 2, 1]   # Production time for each crop.\n",
    "I = [              # Valid planting times.\n",
    "    1:4, 1:12,\n",
    "    vcat(1:3, 7:12),\n",
    "    1:12\n",
    "]\n",
    "n = N+1            # Fallow 'crop'.\n",
    "\n",
    "# Demand data.\n",
    "d = [2, 4, 1];"
   ]
  },
  {
   "cell_type": "markdown",
   "metadata": {
    "slideshow": {
     "slide_type": "subslide"
    }
   },
   "source": [
    "## Construct a base model for the subproblem\n",
    "\n",
    "* We create a single model instance here and will re-use it with different objectives.\n",
    "* JuMP re-optimises if possible, starts from scratch if required."
   ]
  },
  {
   "cell_type": "code",
   "execution_count": 3,
   "metadata": {
    "slideshow": {
     "slide_type": "subslide"
    }
   },
   "outputs": [],
   "source": [
    "model = Model(solver=GLPKSolverMIP())\n",
    "@variable(model, x[i in 1:N+1, j in I[i]], Bin)\n",
    "# One crop at a time.\n",
    "@constraint(model,\n",
    "    [j in 1:M],\n",
    "    sum(\n",
    "        sum(\n",
    "            x[i, mod(j - r - 1, M) + 1]\n",
    "            for r in 0:t[i]-1\n",
    "            if mod(j - r - 1, M) + 1 in I[i])\n",
    "        for i in 1:N+1) <= 1);\n",
    "# Crops of same family.\n",
    "@constraint(model,\n",
    "    [f in F, j in 1:M],\n",
    "    sum(\n",
    "        sum(\n",
    "            x[i, mod(j - r - 1, M) + 1]\n",
    "            for r in 0:t[i]\n",
    "            if mod(j - r - 1, M) + 1 in I[i])\n",
    "        for i in f) <= 1);\n",
    "# Fallow & green manure.\n",
    "@constraint(model,\n",
    "    sum(\n",
    "        sum(x[i, j] for j in I[i])\n",
    "        for i in G) == 1)\n",
    "@constraint(model, sum(x[N + 1, j] for j in 1:M) == 1);"
   ]
  },
  {
   "cell_type": "markdown",
   "metadata": {
    "slideshow": {
     "slide_type": "subslide"
    }
   },
   "source": [
    "## Define pricing problem as a callable function\n",
    "\n",
    "* This function solves for a crop rotation schedule under the fixed set of constraints with given dual values.\n",
    "* We'll use this to solve the column generation subproblem which calculates a new column and its reduced costs."
   ]
  },
  {
   "cell_type": "code",
   "execution_count": 4,
   "metadata": {},
   "outputs": [
    {
     "data": {
      "text/plain": [
       "price_crop_rotation (generic function with 1 method)"
      ]
     },
     "execution_count": 4,
     "metadata": {},
     "output_type": "execute_result"
    }
   ],
   "source": [
    "# Construct and solve a crop schedule feasibility model with\n",
    "# the given objective values applied to a planting of each\n",
    "# crop type. Return the resulting objective value and a\n",
    "# representation of the schedule.\n",
    "function price_crop_rotation(L)\n",
    "    @objective(model, Min,\n",
    "        1 - sum(\n",
    "            L[i] * x[i, j]\n",
    "            for i in 1:N\n",
    "            for j in I[i]))\n",
    "    solve(model)\n",
    "    getobjectivevalue(model), get_production(x, M, N), get_schedule(x, M, N)\n",
    "end"
   ]
  },
  {
   "cell_type": "markdown",
   "metadata": {
    "slideshow": {
     "slide_type": "subslide"
    }
   },
   "source": [
    "## Generate initial columns\n",
    "\n",
    "* Naively construct some columns, enough to satisfy demand.\n",
    "* This is likely to be a poor solution, more schedules will be needed."
   ]
  },
  {
   "cell_type": "code",
   "execution_count": 5,
   "metadata": {
    "scrolled": true
   },
   "outputs": [
    {
     "data": {
      "text/plain": [
       "2-element Array{Dict{String,Any},1}:\n",
       " Dict(\"production\"=>[1, 0, 1],\"schedule\"=>\"|1| | | | |F| | |3| | | |\")\n",
       " Dict(\"production\"=>[0, 1, 1],\"schedule\"=>\"|2| | |F| | | | |3| | | |\")"
      ]
     },
     "execution_count": 5,
     "metadata": {},
     "output_type": "execute_result"
    }
   ],
   "source": [
    "columns = [\n",
    "    Dict(\n",
    "        \"production\" => [1, 0, 1],\n",
    "        \"schedule\" => \"|1| | | | |F| | |3| | | |\"),\n",
    "    Dict(\n",
    "        \"production\" => [0, 1, 1],\n",
    "        \"schedule\" => \"|2| | |F| | | | |3| | | |\")\n",
    "]"
   ]
  },
  {
   "cell_type": "markdown",
   "metadata": {
    "scrolled": true,
    "slideshow": {
     "slide_type": "subslide"
    }
   },
   "source": [
    "## Construct the initial master problem with the available crop schedules.\n",
    "\n",
    "* There are only two schedules in the initial model.\n",
    "\n",
    "\\begin{alignat*}{2}\n",
    "& \\min \\,\\, \\sum_{k \\in K} \\lambda_{k} \\\\\n",
    "& \\sum a_{ik} \\lambda_{k} \\ge d_{i}, \\quad i = 1 \\dots N \\\\\n",
    "& \\lambda_{k} \\ge 0, \\quad k \\in K \\\\\n",
    "\\end{alignat*}"
   ]
  },
  {
   "cell_type": "code",
   "execution_count": 6,
   "metadata": {},
   "outputs": [
    {
     "data": {
      "text/latex": [
       "$$ \\begin{alignat*}{1}\\min\\quad & l_{1} + l_{2}\\\\\n",
       "\\text{Subject to} \\quad & l_{1} \\geq 2\\\\\n",
       " & l_{2} \\geq 4\\\\\n",
       " & l_{1} + l_{2} \\geq 1\\\\\n",
       " & l_{i} \\geq 0 \\quad\\forall i \\in \\{1,2\\}\\\\\n",
       "\\end{alignat*}\n",
       " $$"
      ],
      "text/plain": [
       "Minimization problem with:\n",
       " * 3 linear constraints\n",
       " * 2 variables\n",
       "Solver is GLPKMathProgInterface.GLPKInterfaceLP.GLPK"
      ]
     },
     "execution_count": 6,
     "metadata": {},
     "output_type": "execute_result"
    }
   ],
   "source": [
    "master_model = Model(solver=GLPKSolverLP())\n",
    "@variable(master_model, l[i in 1:length(columns)] >= 0)\n",
    "@constraint(\n",
    "    master_model, demand_covered[j in 1:length(d)],\n",
    "    sum(columns[i][\"production\"][j] * l[i] for i in 1:length(columns)) >= d[j])\n",
    "@objective(master_model, Min, sum(l))\n",
    "master_model"
   ]
  },
  {
   "cell_type": "markdown",
   "metadata": {
    "slideshow": {
     "slide_type": "subslide"
    }
   },
   "source": [
    "## Bookkeeping\n",
    "\n",
    "* Capture the area variables along with the stored column data."
   ]
  },
  {
   "cell_type": "code",
   "execution_count": 7,
   "metadata": {
    "slideshow": {
     "slide_type": "-"
    }
   },
   "outputs": [],
   "source": [
    "for i in 1:length(columns)\n",
    "    columns[i][\"area\"] = l[i]\n",
    "end"
   ]
  },
  {
   "cell_type": "code",
   "execution_count": 8,
   "metadata": {},
   "outputs": [
    {
     "data": {
      "text/plain": [
       "2-element Array{Dict{String,Any},1}:\n",
       " Dict(\"production\"=>[1, 0, 1],\"area\"=>l[1],\"schedule\"=>\"|1| | | | |F| | |3| | | |\")\n",
       " Dict(\"production\"=>[0, 1, 1],\"area\"=>l[2],\"schedule\"=>\"|2| | |F| | | | |3| | | |\")"
      ]
     },
     "execution_count": 8,
     "metadata": {},
     "output_type": "execute_result"
    }
   ],
   "source": [
    "columns"
   ]
  },
  {
   "cell_type": "markdown",
   "metadata": {
    "slideshow": {
     "slide_type": "slide"
    }
   },
   "source": [
    "# Column Generation Loop\n",
    "\n",
    "1. Solve the master problem\n",
    "2. Extract the constraint dual values\n",
    "3. Update and solve the subproblem\n",
    "4. If an improving column is found, add to the master and repeat"
   ]
  },
  {
   "cell_type": "markdown",
   "metadata": {
    "slideshow": {
     "slide_type": "subslide"
    }
   },
   "source": [
    "## Solve the master problem\n",
    "\n",
    "* Assigns areas to each plot.\n",
    "* Production area is optimal *for our current set of schedules*."
   ]
  },
  {
   "cell_type": "code",
   "execution_count": 9,
   "metadata": {},
   "outputs": [
    {
     "name": "stdout",
     "output_type": "stream",
     "text": [
      "Total Area = 6.0\n",
      "\n",
      "|1| | | | |F| | |3| | | |   AREA = 2.0\n",
      "|2| | |F| | | | |3| | | |   AREA = 4.0\n"
     ]
    }
   ],
   "source": [
    "solve(master_model)\n",
    "println(\"Total Area = \", getobjectivevalue(master_model))\n",
    "println()\n",
    "\n",
    "for column in columns\n",
    "    println(column[\"schedule\"], \"   AREA = \", getvalue(column[\"area\"]))\n",
    "end"
   ]
  },
  {
   "cell_type": "markdown",
   "metadata": {
    "slideshow": {
     "slide_type": "subslide"
    }
   },
   "source": [
    "## Solve the pricing problem to generate a new column.\n",
    "\n",
    "\\begin{alignat*}{2}\n",
    "& z = \\min \\,\\, 1 - \\sum_{i = 1}^{N} \\sum_{j \\in I[i]} \\pi_{i} x_{ij} \\\\\n",
    "\\end{alignat*}\n",
    "\n",
    "* An extra schedule is added which produces more of crop 2.\n",
    "* New variable in the master problem can satisfy higher demand in a single cycle."
   ]
  },
  {
   "cell_type": "code",
   "execution_count": 10,
   "metadata": {},
   "outputs": [
    {
     "name": "stdout",
     "output_type": "stream",
     "text": [
      " Objective : -0.9999999999999998\n",
      "Production : [0.0, 2.0, 1.0]\n",
      "  Schedule : |-| |2|-|-|-|3|-| |2|-|-|\n"
     ]
    }
   ],
   "source": [
    "objective, production, schedule = price_crop_rotation(getdual(demand_covered))\n",
    "println(\" Objective : \", objective)\n",
    "println(\"Production : \", production)\n",
    "println(\"  Schedule : \", schedule)"
   ]
  },
  {
   "cell_type": "markdown",
   "metadata": {},
   "source": [
    "* Negative reduced costs indicate an improving column, so add it to the model."
   ]
  },
  {
   "cell_type": "markdown",
   "metadata": {
    "slideshow": {
     "slide_type": "subslide"
    }
   },
   "source": [
    "## Create an additional variable.\n",
    "\n",
    "* This modifies the master LP model in-memory so it can be reoptimised."
   ]
  },
  {
   "cell_type": "code",
   "execution_count": 11,
   "metadata": {
    "slideshow": {
     "slide_type": "-"
    }
   },
   "outputs": [
    {
     "data": {
      "text/latex": [
       "$$ \\begin{alignat*}{1}\\min\\quad & l_{1} + l_{2} + l_3\\\\\n",
       "\\text{Subject to} \\quad & l_{1} \\geq 2\\\\\n",
       " & l_{2} + 2 l_3 \\geq 4\\\\\n",
       " & l_{1} + l_{2} + l_3 \\geq 1\\\\\n",
       " & l_{i} \\geq 0 \\quad\\forall i \\in \\{1,2\\}\\\\\n",
       " & l_3 \\geq 0\\\\\n",
       "\\end{alignat*}\n",
       " $$"
      ],
      "text/plain": [
       "Minimization problem with:\n",
       " * 3 linear constraints\n",
       " * 3 variables\n",
       "Solver is GLPKMathProgInterface.GLPKInterfaceLP.GLPK"
      ]
     },
     "execution_count": 11,
     "metadata": {},
     "output_type": "execute_result"
    }
   ],
   "source": [
    "@variable(\n",
    "    master_model, l_3 >= 0, objective=1.0,\n",
    "    inconstraints=demand_covered, coefficients=production)\n",
    "master_model"
   ]
  },
  {
   "cell_type": "markdown",
   "metadata": {
    "slideshow": {
     "slide_type": "subslide"
    }
   },
   "source": [
    "## Update column bookkeeping\n",
    "\n",
    "* Keep track of the new column data and master variable."
   ]
  },
  {
   "cell_type": "code",
   "execution_count": 12,
   "metadata": {},
   "outputs": [
    {
     "data": {
      "text/plain": [
       "3-element Array{Dict{String,Any},1}:\n",
       " Dict(\"production\"=>[1, 0, 1],\"area\"=>l[1],\"schedule\"=>\"|1| | | | |F| | |3| | | |\")     \n",
       " Dict(\"production\"=>[0, 1, 1],\"area\"=>l[2],\"schedule\"=>\"|2| | |F| | | | |3| | | |\")     \n",
       " Dict(\"production\"=>[0.0, 2.0, 1.0],\"area\"=>l_3,\"schedule\"=>\"|-| |2|-|-|-|3|-| |2|-|-|\")"
      ]
     },
     "execution_count": 12,
     "metadata": {},
     "output_type": "execute_result"
    }
   ],
   "source": [
    "new_column = Dict(\n",
    "    \"production\" => production,\n",
    "    \"schedule\" => schedule,\n",
    "    \"area\" => l_3)\n",
    "push!(columns, new_column)\n",
    "columns"
   ]
  },
  {
   "cell_type": "markdown",
   "metadata": {
    "slideshow": {
     "slide_type": "subslide"
    }
   },
   "source": [
    "## Reoptimise the master problem\n",
    "\n",
    "* Total required area is reduced with the updated set of schedules."
   ]
  },
  {
   "cell_type": "code",
   "execution_count": 13,
   "metadata": {},
   "outputs": [
    {
     "name": "stdout",
     "output_type": "stream",
     "text": [
      "Total Area = 4.0\n",
      "\n",
      "|1| | | | |F| | |3| | | |   AREA = 2.0\n",
      "|2| | |F| | | | |3| | | |   AREA = 0.0\n",
      "|-| |2|-|-|-|3|-| |2|-|-|   AREA = 2.0\n"
     ]
    }
   ],
   "source": [
    "solve(master_model)\n",
    "println(\"Total Area = \", getobjectivevalue(master_model))\n",
    "println()\n",
    "\n",
    "for column in columns\n",
    "    println(column[\"schedule\"], \"   AREA = \", getvalue(column[\"area\"]))\n",
    "end"
   ]
  },
  {
   "cell_type": "markdown",
   "metadata": {
    "slideshow": {
     "slide_type": "slide"
    }
   },
   "source": [
    "## Final Loop\n",
    "\n",
    "* Run column generation iterations using a `while` loop."
   ]
  },
  {
   "cell_type": "code",
   "execution_count": 14,
   "metadata": {
    "scrolled": false
   },
   "outputs": [
    {
     "data": {
      "text/plain": [
       "\"COLUMN ADDED\""
      ]
     },
     "metadata": {},
     "output_type": "display_data"
    },
    {
     "data": {
      "text/plain": [
       "Dict{String,Any} with 3 entries:\n",
       "  \"production\" => [1.0, 1.0, 1.0]\n",
       "  \"area\"       => z\n",
       "  \"schedule\"   => \"|3|-|1|-|-|-|-| |2|-|-|-|\""
      ]
     },
     "metadata": {},
     "output_type": "display_data"
    },
    {
     "data": {
      "text/plain": [
       "\"DONE\""
      ]
     },
     "metadata": {},
     "output_type": "display_data"
    }
   ],
   "source": [
    "while true\n",
    "    solve(master_model)\n",
    "    objective, production, schedule = price_crop_rotation(getdual(demand_covered))\n",
    "    if objective >= 0\n",
    "        display(\"DONE\")\n",
    "        break\n",
    "    end\n",
    "    @variable(\n",
    "        master_model, z >= 0, objective=0.0,\n",
    "        inconstraints=demand_covered, coefficients=production)\n",
    "    new_column = Dict(\"production\" => production, \"schedule\" => schedule, \"area\" => z)\n",
    "    push!(columns, new_column)\n",
    "    display(\"COLUMN ADDED\")\n",
    "    display(new_column)\n",
    "end"
   ]
  },
  {
   "cell_type": "markdown",
   "metadata": {
    "slideshow": {
     "slide_type": "subslide"
    }
   },
   "source": [
    "## View the resulting schedules"
   ]
  },
  {
   "cell_type": "code",
   "execution_count": 15,
   "metadata": {},
   "outputs": [
    {
     "name": "stdout",
     "output_type": "stream",
     "text": [
      "|1| | | | |F| | |3| | | |   AREA = 0.0\n",
      "|2| | |F| | | | |3| | | |   AREA = 0.0\n",
      "|-| |2|-|-|-|3|-| |2|-|-|   AREA = 0.0\n",
      "|3|-|1|-|-|-|-| |2|-|-|-|   AREA = 4.0\n"
     ]
    }
   ],
   "source": [
    "for column in columns\n",
    "    println(column[\"schedule\"], \"   AREA = \", getvalue(column[\"area\"]))\n",
    "end"
   ]
  },
  {
   "cell_type": "code",
   "execution_count": null,
   "metadata": {},
   "outputs": [],
   "source": []
  }
 ],
 "metadata": {
  "@webio": {
   "lastCommId": null,
   "lastKernelId": null
  },
  "celltoolbar": "Slideshow",
  "kernelspec": {
   "display_name": "Julia 1.0.4",
   "language": "julia",
   "name": "julia-1.0"
  },
  "language_info": {
   "file_extension": ".jl",
   "mimetype": "application/julia",
   "name": "julia",
   "version": "1.0.4"
  }
 },
 "nbformat": 4,
 "nbformat_minor": 2
}
