{
 "cells": [
  {
   "cell_type": "markdown",
   "metadata": {
    "slideshow": {
     "slide_type": "slide"
    }
   },
   "source": [
    "<img src=\"https://upload.wikimedia.org/wikipedia/commons/thumb/6/69/Julia_prog_language.svg/220px-Julia_prog_language.svg.png\" alt=\"drawing\" width=\"180\"/>\n",
    "\n",
    "## [julialang.org](https://julialang.org/)\n",
    "\n",
    "* Fairly new, first stable 1.0 release in 2018.\n",
    "* Interpreted language, syntax should feel familiar to Python and MATLAB users.\n",
    "* Uses a precompiler to speed up repeated function calls (good when formulating big models)."
   ]
  },
  {
   "cell_type": "markdown",
   "metadata": {
    "slideshow": {
     "slide_type": "subslide"
    }
   },
   "source": [
    "<img src=\"https://camo.githubusercontent.com/31d60f762b44d0c3ea47cc16b785e042104a6e03/68747470733a2f2f7777772e6a756c69616f70742e6f72672f696d616765732f6a756d702d6c6f676f2d776974682d746578742e737667\" alt=\"drawing\" width=\"300\"/>\n",
    "\n",
    "## [JuMP.jl](http://www.juliaopt.org/JuMP.jl/v0.18/)\n",
    "\n",
    "* Provides an abstraction for building MIP models in a solver independent way.\n",
    "* Reasonably fast (once the precompiler gets up to speed).\n",
    "* Mapping between MIP model mathematical notation and code is basically one to one.\n",
    "* Still under development (last release made some big changes - using the previous version here)."
   ]
  },
  {
   "cell_type": "markdown",
   "metadata": {
    "slideshow": {
     "slide_type": "subslide"
    }
   },
   "source": [
    "<img src=\"https://juliabox.com/assets/img/juliabox-big.svg\" alt=\"JuliaBox\" width=\"220\"/>\n",
    "\n",
    "## [juliabox.com](https://juliabox.com/#)\n",
    "\n",
    "* Julia code runs online, presents a cell-based IDE.\n",
    "* Very useful for teaching (gets everyone in the same environment).\n",
    "* Uses [Jupyter](https://jupyter.org) in the background."
   ]
  },
  {
   "cell_type": "markdown",
   "metadata": {
    "slideshow": {
     "slide_type": "slide"
    }
   },
   "source": [
    "# MIP Modelling Requirements\n",
    "\n",
    "* Julia's package manager is pretty straightforward.\n",
    "* In this case we just need JuMP and the GLPK MIP solver.\n",
    "* JuMP allows us to replace GLPK with any suitable solver\n",
    "\n",
    "    * Commercial - Gurobi, CPLEX\n",
    "    * Commercial-ish (?) - SCIP\n",
    "    * Free - GLPK, Clp/Cbc, ..."
   ]
  },
  {
   "cell_type": "code",
   "execution_count": 1,
   "metadata": {
    "slideshow": {
     "slide_type": "skip"
    }
   },
   "outputs": [
    {
     "name": "stdout",
     "output_type": "stream",
     "text": [
      "\u001b[32m\u001b[1m  Updating\u001b[22m\u001b[39m registry at `~/.julia/registries/General`\n",
      "\u001b[32m\u001b[1m  Updating\u001b[22m\u001b[39m git-repo `https://github.com/JuliaRegistries/General.git`\n",
      "\u001b[?25l\u001b[2K\u001b[?25h\u001b[32m\u001b[1m Resolving\u001b[22m\u001b[39m package versions...\n",
      "\u001b[32m\u001b[1m  Updating\u001b[22m\u001b[39m `~/.julia/environments/v1.0/Project.toml`\n",
      "\u001b[90m [no changes]\u001b[39m\n",
      "\u001b[32m\u001b[1m  Updating\u001b[22m\u001b[39m `~/.julia/environments/v1.0/Manifest.toml`\n",
      "\u001b[90m [no changes]\u001b[39m\n"
     ]
    }
   ],
   "source": [
    "# Fix versions of the packages we need to ensure JuliaBox compatibility.\n",
    "import Pkg\n",
    "\n",
    "Pkg.add([\n",
    "    Pkg.PackageSpec(name=\"JuMP\", version=\"0.18.5\"),\n",
    "    Pkg.PackageSpec(name=\"GLPKMathProgInterface\", version=\"0.4.4\")\n",
    "])"
   ]
  },
  {
   "cell_type": "code",
   "execution_count": 2,
   "metadata": {},
   "outputs": [
    {
     "name": "stdout",
     "output_type": "stream",
     "text": [
      "\u001b[32m\u001b[1m Resolving\u001b[22m\u001b[39m package versions...\n",
      "\u001b[32m\u001b[1m  Updating\u001b[22m\u001b[39m `~/.julia/environments/v1.0/Project.toml`\n",
      "\u001b[90m [no changes]\u001b[39m\n",
      "\u001b[32m\u001b[1m  Updating\u001b[22m\u001b[39m `~/.julia/environments/v1.0/Manifest.toml`\n",
      "\u001b[90m [no changes]\u001b[39m\n",
      "\u001b[32m\u001b[1m Resolving\u001b[22m\u001b[39m package versions...\n",
      "\u001b[32m\u001b[1m  Updating\u001b[22m\u001b[39m `~/.julia/environments/v1.0/Project.toml`\n",
      "\u001b[90m [no changes]\u001b[39m\n",
      "\u001b[32m\u001b[1m  Updating\u001b[22m\u001b[39m `~/.julia/environments/v1.0/Manifest.toml`\n",
      "\u001b[90m [no changes]\u001b[39m\n"
     ]
    }
   ],
   "source": [
    "import Pkg\n",
    "Pkg.add(\"JuMP\")                    # Modelling components.\n",
    "Pkg.add(\"GLPKMathProgInterface\")   # Backend solver."
   ]
  },
  {
   "cell_type": "markdown",
   "metadata": {
    "slideshow": {
     "slide_type": "subslide"
    }
   },
   "source": [
    "# Initialising a Model\n",
    "\n",
    "This is the only solver-specific part."
   ]
  },
  {
   "cell_type": "code",
   "execution_count": 3,
   "metadata": {
    "slideshow": {
     "slide_type": "-"
    }
   },
   "outputs": [
    {
     "data": {
      "text/latex": [
       "$$ \\begin{alignat*}{1}\\min\\quad & 0\\\\\n",
       "\\text{Subject to} \\quad\\end{alignat*}\n",
       " $$"
      ],
      "text/plain": [
       "Feasibility problem with:\n",
       " * 0 linear constraints\n",
       " * 0 variables\n",
       "Solver is GLPKMathProgInterface.GLPKInterfaceMIP.GLPK"
      ]
     },
     "execution_count": 3,
     "metadata": {},
     "output_type": "execute_result"
    }
   ],
   "source": [
    "using JuMP\n",
    "using GLPKMathProgInterface\n",
    "\n",
    "model = Model(solver=GLPKSolverMIP())"
   ]
  },
  {
   "cell_type": "markdown",
   "metadata": {
    "slideshow": {
     "slide_type": "slide"
    }
   },
   "source": [
    "# Part 1: Generating Feasible Crop Schedules\n",
    "\n",
    "Our model defines feasible crop rotation schedules on a single plot.\n",
    "\n",
    "Technical criteria:\n",
    "* Each crop $i$ can only be grown in a subset $I_i$ of planting periods.\n",
    "* Each crop has a specific growing cycle ( $t_i$ ).\n",
    "\n",
    "Ecological-based criteria:\n",
    "* Crops of the same botanical family cannot be grown one immediately after one another.\n",
    "* Green manuring crops must be planted during the cycle.\n",
    "* A fallow period is required."
   ]
  },
  {
   "cell_type": "markdown",
   "metadata": {
    "slideshow": {
     "slide_type": "subslide"
    }
   },
   "source": [
    "\\begin{alignat*}{2}\n",
    "\\text{No overlap:} \\quad\\quad & \\sum_{i=1}^{N+1} \\sum_{r=0}^{t_i-1} x_{i,j-r} \\le 1, \\quad j = 1 \\dots M, \\\\\n",
    "\\text{Separate siblings:} \\quad\\quad & \\sum_{i \\in F_p} \\sum_{r=0}^{t_i} x_{i,j-r} \\le 1, \\quad p = 1 \\dots |F_p|,\\, j = 1 \\dots M, \\\\\n",
    "\\text{Plant green manure crop:} \\quad\\quad & \\sum_{i\\in G} \\sum_{j \\in I_i} x_{i,j} \\le 1, \\\\\n",
    "\\text{Require a fallow period:} \\quad\\quad & \\sum_{j=1}^{M} x_{N+1,j} = 1, \\\\\n",
    "\\text{Valid planting times:} \\quad\\quad & x_{ij} \\in \\lbrace 0, 1 \\rbrace, \\quad i = 1 \\dots N + 1,\\, j = \\in I_i  \\\\\n",
    "\\end{alignat*}"
   ]
  },
  {
   "cell_type": "markdown",
   "metadata": {
    "slideshow": {
     "slide_type": "subslide"
    }
   },
   "source": [
    "## Defining Problem Data\n",
    "\n",
    "* Problem data is stored in native Julia arrays.\n",
    "* Any data structure can be used in the formulation."
   ]
  },
  {
   "cell_type": "code",
   "execution_count": 4,
   "metadata": {},
   "outputs": [],
   "source": [
    "# Crop rotation schedule data.\n",
    "M = 12             # Number of periods considered in the 12 month rotation.\n",
    "N = 3              # Number of crops.\n",
    "n = N+1            # Fallow 'crop'.\n",
    "G = [3]            # Set of green manuring crops.\n",
    "F = [[1, 2], [3]]  # Set of crop families.\n",
    "t = [5, 4, 2, 1]   # Production time (months) for each crop.\n",
    "I = [\n",
    "    1:4,              # Crop 1 may be planted between January and April\n",
    "    1:12,             # Crop 2 may be planted any time.\n",
    "    vcat(1:3, 7:12),  # Crop 3 may be planted between July and March\n",
    "    1:12              # Fallow period (any time).\n",
    "];"
   ]
  },
  {
   "cell_type": "code",
   "execution_count": null,
   "metadata": {},
   "outputs": [],
   "source": []
  },
  {
   "cell_type": "markdown",
   "metadata": {
    "slideshow": {
     "slide_type": "subslide"
    }
   },
   "source": [
    "## Defining Variables: valid planting times\n",
    "\n",
    "* $I_i$ is the set of periods when crop $i$ can be planted.\n",
    "* We define variables $x_{ij}$ only for valid planting times $j$ of crop $i$.\n",
    "* $x_{ij} = 1$ indicates that crop $i$ is planted in period $j$ of the rotation."
   ]
  },
  {
   "cell_type": "code",
   "execution_count": 5,
   "metadata": {},
   "outputs": [
    {
     "data": {
      "text/latex": [
       "$$ x_{i,j} \\in \\{0,1\\} \\quad\\forall i \\in \\{1,2,3,4\\}, j \\in \\{\\dots\\} $$"
      ],
      "text/plain": [
       "x[i,j] ∈ {0,1} ∀ i ∈ {1,2,3,4}, j ∈ {…}"
      ]
     },
     "execution_count": 5,
     "metadata": {},
     "output_type": "execute_result"
    }
   ],
   "source": [
    "model = Model(solver=GLPKSolverMIP())\n",
    "@variable(model, x[i in 1:N+1, j in I[i]], Bin)  # Yes, we can nest indices!"
   ]
  },
  {
   "cell_type": "code",
   "execution_count": null,
   "metadata": {},
   "outputs": [],
   "source": []
  },
  {
   "cell_type": "markdown",
   "metadata": {
    "slideshow": {
     "slide_type": "subslide"
    }
   },
   "source": [
    "### One period of fallow required.\n",
    "\n",
    "* Recall $n = N+1 = 4$ represents a dummy crop enforcing fallow.\n",
    "\n",
    "$$\\sum_{j=1}^{M} x_{N+1,j} = 1$$"
   ]
  },
  {
   "cell_type": "code",
   "execution_count": 6,
   "metadata": {},
   "outputs": [
    {
     "data": {
      "text/latex": [
       "$$ x_{4,1} + x_{4,2} + x_{4,3} + x_{4,4} + x_{4,5} + x_{4,6} + x_{4,7} + x_{4,8} + x_{4,9} + x_{4,10} + x_{4,11} + x_{4,12} = 1 $$"
      ],
      "text/plain": [
       "x[4,1] + x[4,2] + x[4,3] + x[4,4] + x[4,5] + x[4,6] + x[4,7] + x[4,8] + x[4,9] + x[4,10] + x[4,11] + x[4,12] = 1"
      ]
     },
     "execution_count": 6,
     "metadata": {},
     "output_type": "execute_result"
    }
   ],
   "source": [
    "@constraint(model, fallow, sum(x[N + 1, j] for j in 1:M) == 1)"
   ]
  },
  {
   "cell_type": "code",
   "execution_count": null,
   "metadata": {},
   "outputs": [],
   "source": []
  },
  {
   "cell_type": "markdown",
   "metadata": {
    "slideshow": {
     "slide_type": "subslide"
    }
   },
   "source": [
    "### One green manure crop required.\n",
    "\n",
    "* Recall crop 3 may be planted between July and March (months 7 -> 3).\n",
    "* The set $G$ lists manure crops.\n",
    "\n",
    "$$\\sum_{i\\in G} \\sum_{j \\in I_i} x_{i,j} \\le 1$$"
   ]
  },
  {
   "cell_type": "code",
   "execution_count": 7,
   "metadata": {},
   "outputs": [
    {
     "data": {
      "text/latex": [
       "$$ x_{3,1} + x_{3,2} + x_{3,3} + x_{3,7} + x_{3,8} + x_{3,9} + x_{3,10} + x_{3,11} + x_{3,12} = 1 $$"
      ],
      "text/plain": [
       "x[3,1] + x[3,2] + x[3,3] + x[3,7] + x[3,8] + x[3,9] + x[3,10] + x[3,11] + x[3,12] = 1"
      ]
     },
     "execution_count": 7,
     "metadata": {},
     "output_type": "execute_result"
    }
   ],
   "source": [
    "@constraint(model, green_manure,\n",
    "    sum(\n",
    "        sum(x[i, j] for j in I[i])\n",
    "        for i in G) == 1)"
   ]
  },
  {
   "cell_type": "code",
   "execution_count": null,
   "metadata": {},
   "outputs": [],
   "source": []
  },
  {
   "cell_type": "markdown",
   "metadata": {
    "slideshow": {
     "slide_type": "subslide"
    }
   },
   "source": [
    "## Constraint: No overlap of crop plantings\n",
    "\n",
    "$$\\sum_{i=1}^{N+1} \\sum_{r=0}^{t_i-1} x_{i,j-r} \\le 1, \\quad j = 1 \\dots M$$\n",
    "\n",
    "We can model this constraint for a single time period and inspect the result:"
   ]
  },
  {
   "cell_type": "code",
   "execution_count": 8,
   "metadata": {},
   "outputs": [
    {
     "data": {
      "text/latex": [
       "$$ x_{1,3} + x_{1,2} + x_{1,1} + x_{2,3} + x_{2,2} + x_{2,1} + x_{2,12} + x_{3,3} + x_{3,2} + x_{4,3} \\leq 1 $$"
      ],
      "text/plain": [
       "x[1,3] + x[1,2] + x[1,1] + x[2,3] + x[2,2] + x[2,1] + x[2,12] + x[3,3] + x[3,2] + x[4,3] ≤ 1"
      ]
     },
     "execution_count": 8,
     "metadata": {},
     "output_type": "execute_result"
    }
   ],
   "source": [
    "j = 3    # Generate this constraint for March.\n",
    "@constraint(model,\n",
    "    sum(\n",
    "        sum(\n",
    "            x[i, mod(j - r - 1, M) + 1]         # Wrap around.\n",
    "            for r in 0:t[i]-1                   # Look back over the production time.\n",
    "            if mod(j - r - 1, M) + 1 in I[i])   # Only consider valid planting times.\n",
    "        for i in 1:N+1) <= 1)"
   ]
  },
  {
   "cell_type": "code",
   "execution_count": null,
   "metadata": {},
   "outputs": [],
   "source": []
  },
  {
   "cell_type": "markdown",
   "metadata": {
    "slideshow": {
     "slide_type": "subslide"
    }
   },
   "source": [
    "The following code generates these constraints for every planting period:"
   ]
  },
  {
   "cell_type": "code",
   "execution_count": 9,
   "metadata": {},
   "outputs": [],
   "source": [
    "@constraint(model,\n",
    "    no_overlap[j in 1:M],\n",
    "    sum(\n",
    "        sum(\n",
    "            x[i, mod(j - r - 1, M) + 1]\n",
    "            for r in 0:t[i]-1\n",
    "            if mod(j - r - 1, M) + 1 in I[i])\n",
    "        for i in 1:N+1) <= 1);"
   ]
  },
  {
   "cell_type": "code",
   "execution_count": null,
   "metadata": {},
   "outputs": [],
   "source": []
  },
  {
   "cell_type": "markdown",
   "metadata": {
    "slideshow": {
     "slide_type": "subslide"
    }
   },
   "source": [
    "### Crops of the same family may not be planted after one another.\n",
    "\n",
    "$$\\sum_{i \\in F_p} \\sum_{r=0}^{t_i} x_{i,j-r} \\le 1, \\quad p = 1 \\dots |F_p|,\\, j = 1 \\dots M$$\n",
    "\n",
    "Inspect the expression generated for period 1 and family 1 (containing production crops 1 and 2)."
   ]
  },
  {
   "cell_type": "code",
   "execution_count": 10,
   "metadata": {},
   "outputs": [
    {
     "data": {
      "text/latex": [
       "$$ x_{1,4} + x_{1,3} + x_{1,2} + x_{1,1} + x_{2,4} + x_{2,3} + x_{2,2} + x_{2,1} + x_{2,12} \\leq 1 $$"
      ],
      "text/plain": [
       "x[1,4] + x[1,3] + x[1,2] + x[1,1] + x[2,4] + x[2,3] + x[2,2] + x[2,1] + x[2,12] ≤ 1"
      ]
     },
     "execution_count": 10,
     "metadata": {},
     "output_type": "execute_result"
    }
   ],
   "source": [
    "f = F[1]\n",
    "j = 4\n",
    "@constraint(model,\n",
    "    sum(\n",
    "        sum(\n",
    "            x[i, mod(j - r - 1, M) + 1]\n",
    "            for r in 0:t[i]       # Looks back further to enforce a break.\n",
    "            if mod(j - r - 1, M) + 1 in I[i])\n",
    "        for i in f) <= 1)    # Only applies to crops in the same family."
   ]
  },
  {
   "cell_type": "markdown",
   "metadata": {
    "slideshow": {
     "slide_type": "subslide"
    }
   },
   "source": [
    "This constraint is added to the model for every planting period and every crop family:"
   ]
  },
  {
   "cell_type": "code",
   "execution_count": 11,
   "metadata": {},
   "outputs": [],
   "source": [
    "@constraint(model,\n",
    "    sibling_rivalry[f in F, j in 1:M],\n",
    "    sum(\n",
    "        sum(\n",
    "            x[i, mod(j - r - 1, M) + 1]\n",
    "            for r in 0:t[i]\n",
    "            if mod(j - r - 1, M) + 1 in I[i])\n",
    "        for i in f) <= 1);"
   ]
  },
  {
   "cell_type": "code",
   "execution_count": null,
   "metadata": {},
   "outputs": [],
   "source": []
  },
  {
   "cell_type": "markdown",
   "metadata": {
    "slideshow": {
     "slide_type": "subslide"
    }
   },
   "source": [
    "## Set the objective function.\n",
    "\n",
    "* In this case we assign a simple objective function to maximise utilisation.\n",
    "\n",
    "$$\\sum_{i=1}^{N} \\sum_{j \\in I_i} t_i x_{ij}$$"
   ]
  },
  {
   "cell_type": "code",
   "execution_count": 12,
   "metadata": {},
   "outputs": [
    {
     "data": {
      "text/latex": [
       "$$ 5 x_{1,1} + 5 x_{1,2} + 5 x_{1,3} + 5 x_{1,4} + 4 x_{2,1} + 4 x_{2,2} + 4 x_{2,3} + 4 x_{2,4} + 4 x_{2,5} + 4 x_{2,6} + 4 x_{2,7} + 4 x_{2,8} + 4 x_{2,9} + 4 x_{2,10} + 4 x_{2,11} + 4 x_{2,12} + 2 x_{3,1} + 2 x_{3,2} + 2 x_{3,3} + 2 x_{3,7} + 2 x_{3,8} + 2 x_{3,9} + 2 x_{3,10} + 2 x_{3,11} + 2 x_{3,12} $$"
      ],
      "text/plain": [
       "5 x[1,1] + 5 x[1,2] + 5 x[1,3] + 5 x[1,4] + 4 x[2,1] + 4 x[2,2] + 4 x[2,3] + 4 x[2,4] + 4 x[2,5] + 4 x[2,6] + 4 x[2,7] + 4 x[2,8] + 4 x[2,9] + 4 x[2,10] + 4 x[2,11] + 4 x[2,12] + 2 x[3,1] + 2 x[3,2] + 2 x[3,3] + 2 x[3,7] + 2 x[3,8] + 2 x[3,9] + 2 x[3,10] + 2 x[3,11] + 2 x[3,12]"
      ]
     },
     "execution_count": 12,
     "metadata": {},
     "output_type": "execute_result"
    }
   ],
   "source": [
    "@objective(model, Max,\n",
    "    sum(\n",
    "        sum(\n",
    "            t[i] * x[i, j]\n",
    "            for j in I[i])\n",
    "        for i in 1:N))"
   ]
  },
  {
   "cell_type": "markdown",
   "metadata": {
    "slideshow": {
     "slide_type": "slide"
    }
   },
   "source": [
    "## Solving and Inspecting\n",
    "\n",
    "Model-and-solve paradigm is easy!"
   ]
  },
  {
   "cell_type": "code",
   "execution_count": 13,
   "metadata": {},
   "outputs": [
    {
     "name": "stdout",
     "output_type": "stream",
     "text": [
      "Status: Optimal\n",
      "Months of Land Use: 11\n"
     ]
    }
   ],
   "source": [
    "status = solve(model)\n",
    "println(\"Status: \", status)\n",
    "println(\"Months of Land Use: \", Int(round(getobjectivevalue(model))))"
   ]
  },
  {
   "cell_type": "code",
   "execution_count": 14,
   "metadata": {
    "scrolled": true,
    "slideshow": {
     "slide_type": "-"
    }
   },
   "outputs": [
    {
     "data": {
      "text/plain": [
       "x: 2 dimensions, 37 entries:\n",
       " [1, 1] = 0.0\n",
       " [1, 2] = 1.0\n",
       " [1, 3] = 0.0\n",
       " [1, 4] = 0.0\n",
       " [2, 1] = 0.0\n",
       " [2, 2] = 0.0\n",
       " [2, 3] = 0.0\n",
       " [2, 4] = 0.0\n",
       " [2, 5] = 0.0\n",
       " [2, 6] = 0.0\n",
       " [2, 7] = 0.0\n",
       " [2, 8] = 1.0\n",
       " [2, 9] = 0.0\n",
       " [2,10] = 0.0\n",
       " [2,11] = 0.0\n",
       " [2,12] = 0.0\n",
       " [3, 1] = 0.0\n",
       " [3, 2] = 0.0\n",
       " [3, 3] = 0.0\n",
       " [3, 7] = 0.0\n",
       " [3, 8] = 0.0\n",
       " [3, 9] = 0.0\n",
       " [3,10] = 0.0\n",
       " [3,11] = 0.0\n",
       " [3,12] = 1.0\n",
       " [4, 1] = 0.0\n",
       " [4, 2] = 0.0\n",
       " [4, 3] = 0.0\n",
       " [4, 4] = 0.0\n",
       " [4, 5] = 0.0\n",
       " [4, 6] = 0.0\n",
       " [4, 7] = 1.0\n",
       " [4, 8] = 0.0\n",
       " [4, 9] = 0.0\n",
       " [4,10] = 0.0\n",
       " [4,11] = 0.0\n",
       " [4,12] = 0.0"
      ]
     },
     "execution_count": 14,
     "metadata": {},
     "output_type": "execute_result"
    }
   ],
   "source": [
    "getvalue(x)"
   ]
  },
  {
   "cell_type": "markdown",
   "metadata": {
    "slideshow": {
     "slide_type": "subslide"
    }
   },
   "source": [
    "## Producing readable plans"
   ]
  },
  {
   "cell_type": "code",
   "execution_count": 15,
   "metadata": {
    "slideshow": {
     "slide_type": "-"
    }
   },
   "outputs": [
    {
     "name": "stdout",
     "output_type": "stream",
     "text": [
      "Plant A in February, harvest in June\n",
      "Plant B in August, harvest in November\n",
      "Plant C in December, harvest in January\n"
     ]
    }
   ],
   "source": [
    "month = [\n",
    "    \"January\", \"February\", \"March\", \"April\", \"May\", \"June\",\n",
    "    \"July\", \"August\", \"September\", \"October\", \"November\", \"December\"\n",
    "]\n",
    "crop = [\"A\", \"B\", \"C\"]\n",
    "\n",
    "for j in 1:M\n",
    "    for i in 1:N\n",
    "        if j in I[i] && getvalue(x[i,j]) == 1\n",
    "            j_end = j + t[i] - 1\n",
    "            println(\"Plant \", crop[i], \" in \", month[j], \", harvest in \", month[mod(j_end - 1, M) + 1])\n",
    "        end\n",
    "    end\n",
    "end"
   ]
  },
  {
   "cell_type": "markdown",
   "metadata": {
    "slideshow": {
     "slide_type": "subslide"
    }
   },
   "source": [
    "## Displaying schedules"
   ]
  },
  {
   "cell_type": "code",
   "execution_count": 16,
   "metadata": {},
   "outputs": [
    {
     "name": "stdout",
     "output_type": "stream",
     "text": [
      "Schedule:  |-|1|-|-|-|-| |2|-|-|-|3|\n"
     ]
    }
   ],
   "source": [
    "function get_action(j, x, M, N)\n",
    "    plant = [i for i in 1:N if j in I[i] && getvalue(x[i, j]) == 1]\n",
    "    if !isempty(plant)\n",
    "        return first(plant)\n",
    "    else\n",
    "        harvest = [\n",
    "            i for i in 1:N for r in 1:(t[i] - 1)\n",
    "            if mod(j - r - 1, M) + 1 in I[i]\n",
    "            && getvalue(x[i, mod(j - r - 1, M) + 1]) == 1]\n",
    "        if length(harvest) > 0\n",
    "            return \"-\"\n",
    "        end\n",
    "    end\n",
    "    return \" \"\n",
    "end\n",
    "\n",
    "function get_schedule(x, M, N)\n",
    "    \"|\" * join([get_action(j, x, M, N) for j in 1:M], \"|\") * \"|\"\n",
    "end\n",
    "\n",
    "println(\"Schedule:  \", get_schedule(x, M, N))"
   ]
  },
  {
   "cell_type": "code",
   "execution_count": null,
   "metadata": {},
   "outputs": [],
   "source": []
  },
  {
   "cell_type": "markdown",
   "metadata": {
    "slideshow": {
     "slide_type": "slide"
    }
   },
   "source": [
    "# An Alternative Approach\n",
    "\n",
    "* Above shows an easy translation of a MIP formulation to JuMP.\n",
    "* We can also be a bit more flexible and write a more readable model."
   ]
  },
  {
   "cell_type": "code",
   "execution_count": 17,
   "metadata": {},
   "outputs": [],
   "source": [
    "months = 12\n",
    "crops = [\"A\", \"B\", \"C\"]\n",
    "manure_crops = [\"C\"]\n",
    "crop_families = [[\"A\", \"B\"], [\"C\"]]\n",
    "production_time = Dict(\"A\" => 5, \"B\" => 4, \"C\" => 2)\n",
    "planting_times = Dict(\n",
    "    \"A\" => 1:4,\n",
    "    \"B\" => 1:12,\n",
    "    \"C\" => vcat(1:3, 7:12))\n",
    "\n",
    "fallow = \"F\"\n",
    "all_crops = vcat(crops, [fallow])\n",
    "planting_times[\"F\"] = 1:months\n",
    "production_time[\"F\"] = 1;"
   ]
  },
  {
   "cell_type": "code",
   "execution_count": 20,
   "metadata": {
    "slideshow": {
     "slide_type": "subslide"
    }
   },
   "outputs": [],
   "source": [
    "model = Model(solver=GLPKSolverMIP())\n",
    "@variable(model, plant[crop in all_crops, month in planting_times[crop]], Bin)\n",
    "@constraint(model, c_fallow, sum(plant[fallow, month] for month in planting_times[\"F\"]) == 1)\n",
    "@constraint(model, c_manure_crops,\n",
    "    sum(\n",
    "        sum(plant[crop, month] for month in planting_times[crop])\n",
    "        for crop in manure_crops) == 1)\n",
    "@constraint(model,\n",
    "    no_overlap[month in 1:M],\n",
    "    sum(\n",
    "        sum(\n",
    "            plant[crop, mod(month - r - 1, months) + 1]\n",
    "            for r in 0:(production_time[crop]-1)\n",
    "            if mod(month - r - 1, months) + 1 in planting_times[crop])\n",
    "        for crop in all_crops) <= 1);\n",
    "@constraint(model,\n",
    "    sibling_rivalry[family in crop_families, month in 1:months],\n",
    "    sum(\n",
    "        sum(\n",
    "            plant[crop, mod(month - r - 1, M) + 1]\n",
    "            for r in 0:production_time[crop]\n",
    "            if mod(month - r - 1, M) + 1 in planting_times[crop])\n",
    "        for crop in family) <= 1)\n",
    "@objective(model, Max,\n",
    "    sum(\n",
    "        production_time[crop] * plant[crop,month]\n",
    "        for crop in crops\n",
    "        for month in planting_times[crop]));"
   ]
  },
  {
   "cell_type": "code",
   "execution_count": null,
   "metadata": {},
   "outputs": [],
   "source": []
  }
 ],
 "metadata": {
  "@webio": {
   "lastCommId": null,
   "lastKernelId": null
  },
  "celltoolbar": "Slideshow",
  "kernelspec": {
   "display_name": "Julia 1.0.4",
   "language": "julia",
   "name": "julia-1.0"
  },
  "language_info": {
   "file_extension": ".jl",
   "mimetype": "application/julia",
   "name": "julia",
   "version": "1.0.4"
  }
 },
 "nbformat": 4,
 "nbformat_minor": 2
}
