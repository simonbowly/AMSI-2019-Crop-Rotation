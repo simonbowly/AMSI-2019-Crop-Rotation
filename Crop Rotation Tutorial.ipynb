{
 "cells": [
  {
   "cell_type": "code",
   "execution_count": 1,
   "metadata": {},
   "outputs": [
    {
     "name": "stdout",
     "output_type": "stream",
     "text": [
      "\u001b[32m\u001b[1m  Updating\u001b[22m\u001b[39m registry at `~/.julia/registries/General`\n",
      "\u001b[32m\u001b[1m  Updating\u001b[22m\u001b[39m git-repo `https://github.com/JuliaRegistries/General.git`\n",
      "\u001b[?25l\u001b[2K\u001b[?25h\u001b[32m\u001b[1m Resolving\u001b[22m\u001b[39m package versions...\n",
      "\u001b[32m\u001b[1m  Updating\u001b[22m\u001b[39m `~/.julia/environments/v1.0/Project.toml`\n",
      "\u001b[90m [no changes]\u001b[39m\n",
      "\u001b[32m\u001b[1m  Updating\u001b[22m\u001b[39m `~/.julia/environments/v1.0/Manifest.toml`\n",
      "\u001b[90m [no changes]\u001b[39m\n"
     ]
    }
   ],
   "source": [
    "# Fix versions of the packages we need to ensure JuliaBox compatibility.\n",
    "import Pkg\n",
    "\n",
    "Pkg.add([\n",
    "    Pkg.PackageSpec(name=\"JuMP\", version=\"0.18.5\"),\n",
    "    Pkg.PackageSpec(name=\"GLPKMathProgInterface\", version=\"0.4.4\")\n",
    "])\n",
    "\n",
    "# Import the packages we'll use (JuMP modeller, GLPK solver).\n",
    "using JuMP\n",
    "using GLPKMathProgInterface"
   ]
  },
  {
   "cell_type": "markdown",
   "metadata": {},
   "source": [
    "# Part 1: Generating Feasible Crop Schedules\n",
    "\n",
    "Technical criteria:\n",
    "* Each crop can only be grown in a subset Ii of the periods.\n",
    "* Each crop has a specific growing cycle ( ti ).\n",
    "\n",
    "Set of “ecological-based criteria”:\n",
    "* Crops of the same botanical family cannot be grown one immediately after\n",
    "another.\n",
    "* Use of green manure crops.\n",
    "* Use of fallow periods (with specific durations).\n",
    "\n",
    "The variables allow for valid planting times.\n",
    "\n",
    "The constraints enforce that:\n",
    "* only one crop is planted in each period,\n",
    "* crops of the same family do not follow one another,\n",
    "* one green manuring crop is planted, and\n",
    "* there is one period of fallow.\n",
    "\n",
    "The model below defines feasible crop rotation schedules on a single plot.\n",
    "\n",
    "\\begin{alignat*}{2}\n",
    "& \\sum_{i=1}^{N+1} \\sum_{r=0}^{t_i-1} x_{i,j-r} \\le 1, \\quad j = 1 \\dots M, \\\\\n",
    "& \\sum_{i \\in F_p} \\sum_{r=0}^{t_i} x_{i,j-r} \\le 1, \\quad p = 1 \\dots |F_p|,\\, j = 1 \\dots M, \\\\\n",
    "& \\sum_{i\\in G} \\sum_{j \\in I_i} x_{i,j} \\le 1, \\\\\n",
    "& \\sum_{j=1}^{M} x_{N+1,j} = 1, \\\\\n",
    "& x_{ij} \\in \\lbrace 0, 1 \\rbrace, \\quad i = 1 \\dots N + 1,\\, j = \\in I_i  \\\\\n",
    "\\end{alignat*}\n",
    "\n",
    "## Model with JuMP:"
   ]
  },
  {
   "cell_type": "code",
   "execution_count": 2,
   "metadata": {},
   "outputs": [
    {
     "data": {
      "text/latex": [
       "$$ x_{i,j} \\in \\{0,1\\} \\quad\\forall i \\in \\{1,2,3,4\\}, j \\in \\{\\dots\\} $$"
      ],
      "text/plain": [
       "x[i,j] ∈ {0,1} ∀ i ∈ {1,2,3,4}, j ∈ {…}"
      ]
     },
     "execution_count": 2,
     "metadata": {},
     "output_type": "execute_result"
    }
   ],
   "source": [
    "# Crop rotation schedule data.\n",
    "M = 12             # Number of periods in the rotation.\n",
    "N = 3              # Number of crops.\n",
    "G = [3]            # Set of green manuring crops.\n",
    "F = [[1, 2], [3]]  # Set of crop families.\n",
    "t = [5, 3, 2, 1]   # Production time for each crop.\n",
    "I = [              # Valid planting times.\n",
    "    1:4, 1:12,\n",
    "    [m for m in 1:M if !(m in 4:6)],\n",
    "    1:12]\n",
    "n = 4              # Fallow 'crop'.\n",
    "\n",
    "# Build a model with binary variables x_ij.\n",
    "# x_ij = 1 => crop i planted in period j.\n",
    "model = Model(solver=GLPKSolverMIP())\n",
    "@variable(model, x[i in 1:N+1, j in I[i]], Bin)"
   ]
  },
  {
   "cell_type": "markdown",
   "metadata": {},
   "source": [
    "### No overlap of crop plantings\n",
    "\n",
    "Inspect the expression generated for period 1 below."
   ]
  },
  {
   "cell_type": "code",
   "execution_count": 3,
   "metadata": {},
   "outputs": [
    {
     "data": {
      "text/latex": [
       "$$ x_{1,1} + x_{2,1} + x_{2,12} + x_{2,11} + x_{3,1} + x_{3,12} + x_{4,1} \\leq 1 $$"
      ],
      "text/plain": [
       "x[1,1] + x[2,1] + x[2,12] + x[2,11] + x[3,1] + x[3,12] + x[4,1] ≤ 1"
      ]
     },
     "execution_count": 3,
     "metadata": {},
     "output_type": "execute_result"
    }
   ],
   "source": [
    "j = 1\n",
    "@constraint(model,\n",
    "    sum(\n",
    "        sum(\n",
    "            x[i, mod(j - r - 1, M) + 1]\n",
    "            for r in 0:t[i]-1\n",
    "            if mod(j - r - 1, M) + 1 in I[i])\n",
    "        for i in 1:N+1) <= 1)"
   ]
  },
  {
   "cell_type": "markdown",
   "metadata": {},
   "source": [
    "The following code generates these constraints for every planting period:"
   ]
  },
  {
   "cell_type": "code",
   "execution_count": 4,
   "metadata": {},
   "outputs": [],
   "source": [
    "@constraint(model,\n",
    "    [j in 1:M],\n",
    "    sum(\n",
    "        sum(\n",
    "            x[i, mod(j - r - 1, M) + 1]\n",
    "            for r in 0:t[i]-1\n",
    "            if mod(j - r - 1, M) + 1 in I[i])\n",
    "        for i in 1:N+1) <= 1);"
   ]
  },
  {
   "cell_type": "markdown",
   "metadata": {},
   "source": [
    "### Crops of the same family may not be planted after one another.\n",
    "\n",
    "Inspect the expression generated for period 1 and family 1 (containing production crops 1 and 2)."
   ]
  },
  {
   "cell_type": "code",
   "execution_count": 5,
   "metadata": {},
   "outputs": [
    {
     "data": {
      "text/latex": [
       "$$ x_{1,1} + x_{2,1} + x_{2,12} + x_{2,11} + x_{2,10} \\leq 1 $$"
      ],
      "text/plain": [
       "x[1,1] + x[2,1] + x[2,12] + x[2,11] + x[2,10] ≤ 1"
      ]
     },
     "execution_count": 5,
     "metadata": {},
     "output_type": "execute_result"
    }
   ],
   "source": [
    "p = 1\n",
    "j = 1\n",
    "@constraint(model,\n",
    "    sum(\n",
    "        sum(\n",
    "            x[i, mod(j - r - 1, M) + 1]\n",
    "            for r in 0:t[i]\n",
    "            if mod(j - r - 1, M) + 1 in I[i])\n",
    "        for i in F[p]) <= 1)"
   ]
  },
  {
   "cell_type": "markdown",
   "metadata": {},
   "source": [
    "This constraint is added to the model for every planting period and every crop family:"
   ]
  },
  {
   "cell_type": "code",
   "execution_count": 6,
   "metadata": {},
   "outputs": [],
   "source": [
    "@constraint(model,\n",
    "    [f in F, j in 1:M],\n",
    "    sum(\n",
    "        sum(\n",
    "            x[i, mod(j - r - 1, M) + 1]\n",
    "            for r in 0:t[i]\n",
    "            if mod(j - r - 1, M) + 1 in I[i])\n",
    "        for i in f) <= 1);"
   ]
  },
  {
   "cell_type": "markdown",
   "metadata": {},
   "source": [
    "### One green manure crop and one period of fallow required."
   ]
  },
  {
   "cell_type": "code",
   "execution_count": 7,
   "metadata": {},
   "outputs": [
    {
     "data": {
      "text/latex": [
       "$$ x_{3,1} + x_{3,2} + x_{3,3} + x_{3,7} + x_{3,8} + x_{3,9} + x_{3,10} + x_{3,11} + x_{3,12} = 1 $$"
      ],
      "text/plain": [
       "x[3,1] + x[3,2] + x[3,3] + x[3,7] + x[3,8] + x[3,9] + x[3,10] + x[3,11] + x[3,12] = 1"
      ]
     },
     "execution_count": 7,
     "metadata": {},
     "output_type": "execute_result"
    }
   ],
   "source": [
    "@constraint(model,\n",
    "    sum(\n",
    "        sum(x[i, j] for j in I[i])\n",
    "        for i in G) == 1)"
   ]
  },
  {
   "cell_type": "code",
   "execution_count": 8,
   "metadata": {},
   "outputs": [
    {
     "data": {
      "text/latex": [
       "$$ x_{4,1} + x_{4,2} + x_{4,3} + x_{4,4} + x_{4,5} + x_{4,6} + x_{4,7} + x_{4,8} + x_{4,9} + x_{4,10} + x_{4,11} + x_{4,12} = 1 $$"
      ],
      "text/plain": [
       "x[4,1] + x[4,2] + x[4,3] + x[4,4] + x[4,5] + x[4,6] + x[4,7] + x[4,8] + x[4,9] + x[4,10] + x[4,11] + x[4,12] = 1"
      ]
     },
     "execution_count": 8,
     "metadata": {},
     "output_type": "execute_result"
    }
   ],
   "source": [
    "@constraint(model, sum(x[N + 1, j] for j in 1:M) == 1)"
   ]
  },
  {
   "cell_type": "markdown",
   "metadata": {},
   "source": [
    "## Solve with a simple objective function.\n",
    "\n",
    "Below assigns a simple objective function to maximise utilisation, which is simply given by\n",
    "\n",
    "$$\\sum_{i=1}^{N} \\sum_{j \\in I_i} t_i x_{ij}$$"
   ]
  },
  {
   "cell_type": "code",
   "execution_count": 9,
   "metadata": {},
   "outputs": [
    {
     "data": {
      "text/latex": [
       "$$ \\begin{alignat*}{1}\\max\\quad & 5 x_{1,1} + 5 x_{1,2} + 5 x_{1,3} + 5 x_{1,4} + 3 x_{2,1} + 3 x_{2,2} + 3 x_{2,3} + 3 x_{2,4} + 3 x_{2,5} + 3 x_{2,6} + 3 x_{2,7} + 3 x_{2,8} + 3 x_{2,9} + 3 x_{2,10} + 3 x_{2,11} + 3 x_{2,12} + 2 x_{3,1} + 2 x_{3,2} + 2 x_{3,3} + 2 x_{3,7} + 2 x_{3,8} + 2 x_{3,9} + 2 x_{3,10} + 2 x_{3,11} + 2 x_{3,12}\\\\\n",
       "\\text{Subject to} \\quad & x_{1,1} + x_{2,1} + x_{2,12} + x_{2,11} + x_{3,1} + x_{3,12} + x_{4,1} \\leq 1\\\\\n",
       " & x_{1,1} + x_{2,1} + x_{2,12} + x_{2,11} + x_{3,1} + x_{3,12} + x_{4,1} \\leq 1\\\\\n",
       " & x_{1,2} + x_{1,1} + x_{2,2} + x_{2,1} + x_{2,12} + x_{3,2} + x_{3,1} + x_{4,2} \\leq 1\\\\\n",
       " & x_{1,3} + x_{1,2} + x_{1,1} + x_{2,3} + x_{2,2} + x_{2,1} + x_{3,3} + x_{3,2} + x_{4,3} \\leq 1\\\\\n",
       " & x_{1,4} + x_{1,3} + x_{1,2} + x_{1,1} + x_{2,4} + x_{2,3} + x_{2,2} + x_{3,3} + x_{4,4} \\leq 1\\\\\n",
       " & x_{1,4} + x_{1,3} + x_{1,2} + x_{1,1} + x_{2,5} + x_{2,4} + x_{2,3} + x_{4,5} \\leq 1\\\\\n",
       " & x_{1,4} + x_{1,3} + x_{1,2} + x_{2,6} + x_{2,5} + x_{2,4} + x_{4,6} \\leq 1\\\\\n",
       " & x_{1,4} + x_{1,3} + x_{2,7} + x_{2,6} + x_{2,5} + x_{3,7} + x_{4,7} \\leq 1\\\\\n",
       " & x_{1,4} + x_{2,8} + x_{2,7} + x_{2,6} + x_{3,8} + x_{3,7} + x_{4,8} \\leq 1\\\\\n",
       " & x_{2,9} + x_{2,8} + x_{2,7} + x_{3,9} + x_{3,8} + x_{4,9} \\leq 1\\\\\n",
       " & x_{2,10} + x_{2,9} + x_{2,8} + x_{3,10} + x_{3,9} + x_{4,10} \\leq 1\\\\\n",
       " & x_{2,11} + x_{2,10} + x_{2,9} + x_{3,11} + x_{3,10} + x_{4,11} \\leq 1\\\\\n",
       " & x_{2,12} + x_{2,11} + x_{2,10} + x_{3,12} + x_{3,11} + x_{4,12} \\leq 1\\\\\n",
       " & x_{1,1} + x_{2,1} + x_{2,12} + x_{2,11} + x_{2,10} \\leq 1\\\\\n",
       " & x_{1,1} + x_{2,1} + x_{2,12} + x_{2,11} + x_{2,10} \\leq 1\\\\\n",
       " & x_{1,2} + x_{1,1} + x_{2,2} + x_{2,1} + x_{2,12} + x_{2,11} \\leq 1\\\\\n",
       " & x_{1,3} + x_{1,2} + x_{1,1} + x_{2,3} + x_{2,2} + x_{2,1} + x_{2,12} \\leq 1\\\\\n",
       " & x_{1,4} + x_{1,3} + x_{1,2} + x_{1,1} + x_{2,4} + x_{2,3} + x_{2,2} + x_{2,1} \\leq 1\\\\\n",
       " & x_{1,4} + x_{1,3} + x_{1,2} + x_{1,1} + x_{2,5} + x_{2,4} + x_{2,3} + x_{2,2} \\leq 1\\\\\n",
       " & x_{1,4} + x_{1,3} + x_{1,2} + x_{1,1} + x_{2,6} + x_{2,5} + x_{2,4} + x_{2,3} \\leq 1\\\\\n",
       " & x_{1,4} + x_{1,3} + x_{1,2} + x_{2,7} + x_{2,6} + x_{2,5} + x_{2,4} \\leq 1\\\\\n",
       " & x_{1,4} + x_{1,3} + x_{2,8} + x_{2,7} + x_{2,6} + x_{2,5} \\leq 1\\\\\n",
       " & x_{1,4} + x_{2,9} + x_{2,8} + x_{2,7} + x_{2,6} \\leq 1\\\\\n",
       " & x_{2,10} + x_{2,9} + x_{2,8} + x_{2,7} \\leq 1\\\\\n",
       " & x_{2,11} + x_{2,10} + x_{2,9} + x_{2,8} \\leq 1\\\\\n",
       " & x_{2,12} + x_{2,11} + x_{2,10} + x_{2,9} \\leq 1\\\\\n",
       " & x_{3,1} + x_{3,12} + x_{3,11} \\leq 1\\\\\n",
       " & x_{3,2} + x_{3,1} + x_{3,12} \\leq 1\\\\\n",
       " & x_{3,3} + x_{3,2} + x_{3,1} \\leq 1\\\\\n",
       " & x_{3,3} + x_{3,2} \\leq 1\\\\\n",
       " & x_{3,3} \\leq 1\\\\\n",
       " & 0 \\leq 1\\\\\n",
       " & x_{3,7} \\leq 1\\\\\n",
       " & x_{3,8} + x_{3,7} \\leq 1\\\\\n",
       " & x_{3,9} + x_{3,8} + x_{3,7} \\leq 1\\\\\n",
       " & x_{3,10} + x_{3,9} + x_{3,8} \\leq 1\\\\\n",
       " & x_{3,11} + x_{3,10} + x_{3,9} \\leq 1\\\\\n",
       " & x_{3,12} + x_{3,11} + x_{3,10} \\leq 1\\\\\n",
       " & x_{3,1} + x_{3,2} + x_{3,3} + x_{3,7} + x_{3,8} + x_{3,9} + x_{3,10} + x_{3,11} + x_{3,12} = 1\\\\\n",
       " & x_{4,1} + x_{4,2} + x_{4,3} + x_{4,4} + x_{4,5} + x_{4,6} + x_{4,7} + x_{4,8} + x_{4,9} + x_{4,10} + x_{4,11} + x_{4,12} = 1\\\\\n",
       " & x_{i,j} \\in \\{0,1\\} \\quad\\forall i \\in \\{1,2,3,4\\}, j \\in \\{\\dots\\}\\\\\n",
       "\\end{alignat*}\n",
       " $$"
      ],
      "text/plain": [
       "Maximization problem with:\n",
       " * 40 linear constraints\n",
       " * 37 variables: 37 binary\n",
       "Solver is GLPKMathProgInterface.GLPKInterfaceMIP.GLPK"
      ]
     },
     "execution_count": 9,
     "metadata": {},
     "output_type": "execute_result"
    }
   ],
   "source": [
    "@objective(model, Max,\n",
    "    sum(\n",
    "        sum(\n",
    "            t[i] * x[i, j]\n",
    "            for j in I[i])\n",
    "        for i in 1:N))\n",
    "model"
   ]
  },
  {
   "cell_type": "markdown",
   "metadata": {},
   "source": [
    "## Solve the resulting model and display the solution\n",
    "\n",
    "Of the 12 month cycle, 10 months are used for plantings.\n",
    "Including one forced period of fallow, there is one spare month which couldn't be filled."
   ]
  },
  {
   "cell_type": "code",
   "execution_count": 10,
   "metadata": {},
   "outputs": [
    {
     "name": "stdout",
     "output_type": "stream",
     "text": [
      "Optimal\n",
      "Land Use: 10.0\n"
     ]
    }
   ],
   "source": [
    "println(solve(model))\n",
    "println(\"Land Use: \", round(getobjectivevalue(model)))"
   ]
  },
  {
   "cell_type": "code",
   "execution_count": 11,
   "metadata": {},
   "outputs": [
    {
     "name": "stdout",
     "output_type": "stream",
     "text": [
      "Schedule:   |3| | |1| | | | |F|2| | |\n",
      "Production:   [1.0, 1.0, 1.0]\n"
     ]
    }
   ],
   "source": [
    "# Return a string representation of the resulting crop planting times.\n",
    "function get_schedule(x, M, N)\n",
    "    schedule = \"\"\n",
    "    for j in 1:M\n",
    "        selected_crop = [\n",
    "            i for i in 1:N+1\n",
    "            if j in I[i]\n",
    "            && (getvalue(x[i, j]) > 0.999)]\n",
    "        if length(selected_crop) > 0\n",
    "            if selected_crop[1] == N + 1\n",
    "                schedule = string(schedule, \"|\", \"F\")\n",
    "            else\n",
    "                schedule = string(schedule, \"|\", selected_crop[1])\n",
    "            end\n",
    "        else\n",
    "            schedule = string(schedule, \"| \")\n",
    "        end\n",
    "    end\n",
    "    schedule = string(schedule, \"|\")\n",
    "end\n",
    "\n",
    "# Returns the number of plantings of each crop in this schedule.\n",
    "function get_production(x, M, C)\n",
    "    [sum(getvalue(x[i, j]) for j in I[i]) for i in 1:N]\n",
    "end\n",
    "\n",
    "println(\"Schedule:   \", get_schedule(x, M, N))\n",
    "println(\"Production:   \", get_production(x, M, N))"
   ]
  },
  {
   "cell_type": "markdown",
   "metadata": {},
   "source": [
    "# Part 2: Assigning schedules to plot areas\n",
    "\n",
    "Generate crop schedules $k \\in K$ which produce $c_{ik}$ of crop $i$ per unit area.\n",
    "By assigning areas to schedules, minimise land use required to satisfy the given demand.\n",
    "\n",
    "\\begin{alignat*}{2}\n",
    "& \\min \\,\\, \\sum_{k \\in K} a_{k} \\\\\n",
    "& \\sum c_{ik} a_{k} \\ge d_{i}, \\quad i \\in C \\\\\n",
    "& a_{k} \\ge 0, \\quad k \\in K \\\\\n",
    "\\end{alignat*}\n",
    "\n",
    "The subproblem searches for feasible crop schedules with the following objective:\n",
    "\n",
    "\\begin{alignat*}{2}\n",
    "& z = \\min \\,\\, 1 - \\sum_{i \\in C} \\sum_{j \\in I[i]} \\lambda_{i} x_{ij} \\\\\n",
    "\\end{alignat*}\n",
    "\n",
    "where $\\lambda_i$ are the dual variables associated with the demand coverage constraints."
   ]
  },
  {
   "cell_type": "markdown",
   "metadata": {},
   "source": [
    "## Define pricing problem as a callable function\n",
    "\n",
    "This function solves for a crop rotation schedule under the current set of constraints with given dual values.\n",
    "We'll use this to solve the column generation subproblem which calculates a new column and its reduced costs."
   ]
  },
  {
   "cell_type": "code",
   "execution_count": 12,
   "metadata": {},
   "outputs": [
    {
     "data": {
      "text/plain": [
       "price_crop_rotation (generic function with 1 method)"
      ]
     },
     "execution_count": 12,
     "metadata": {},
     "output_type": "execute_result"
    }
   ],
   "source": [
    "# Construct and solve a crop schedule feasibility model with\n",
    "# the given objective values applied to a planting of each\n",
    "# crop type. Returns the resulting objective value and a\n",
    "# representation of the schedule.\n",
    "function price_crop_rotation(L)\n",
    "    # Formulate a new model.\n",
    "    model = Model(solver=GLPKSolverMIP())\n",
    "    @variable(model, x[i in 1:N+1, j in I[i]], Bin)\n",
    "    # One crop at a time.\n",
    "    @constraint(model,\n",
    "        [j in 1:M],\n",
    "        sum(\n",
    "            sum(\n",
    "                x[i, mod(j - r - 1, M) + 1]\n",
    "                for r in 0:t[i]-1\n",
    "                if mod(j - r - 1, M) + 1 in I[i])\n",
    "            for i in 1:N+1) <= 1);\n",
    "    # Crops of same family.\n",
    "    @constraint(model,\n",
    "        [f in F, j in 1:M],\n",
    "        sum(\n",
    "            sum(\n",
    "                x[i, mod(j - r - 1, M) + 1]\n",
    "                for r in 0:t[i]\n",
    "                if mod(j - r - 1, M) + 1 in I[i])\n",
    "            for i in f) <= 1);\n",
    "    # Fallow & green manure.\n",
    "    @constraint(model,\n",
    "        sum(\n",
    "            sum(x[i, j] for j in I[i])\n",
    "            for i in G) == 1)\n",
    "    @constraint(model, sum(x[N + 1, j] for j in 1:M) == 1)\n",
    "    # Parameterised objective coefficients.\n",
    "    @objective(model, Min,\n",
    "        1 - sum(\n",
    "            L[i] * x[i, j]\n",
    "            for i in 1:N\n",
    "            for j in I[i]))\n",
    "    solve(model)\n",
    "    getobjectivevalue(model), get_production(x, M, N), get_schedule(x, M, N)\n",
    "end"
   ]
  },
  {
   "cell_type": "markdown",
   "metadata": {},
   "source": [
    "Using $t$ as our objective to maximise utilisation, we get our initial schedule which plants one unit of each crop.\n",
    "\n",
    "$c_k$ is the number of units of demand satisfied per unit area (one planting produces one unit of that crop)"
   ]
  },
  {
   "cell_type": "code",
   "execution_count": 13,
   "metadata": {},
   "outputs": [
    {
     "name": "stdout",
     "output_type": "stream",
     "text": [
      "-9.0\n",
      "|3| | |1| | | | |F|2| | |\n",
      "c_k = [1.0, 1.0, 1.0]\n"
     ]
    }
   ],
   "source": [
    "objective, production, schedule = price_crop_rotation(t)\n",
    "println(objective)\n",
    "println(schedule)\n",
    "println(\"c_k = \", production)"
   ]
  },
  {
   "cell_type": "markdown",
   "metadata": {},
   "source": [
    "Value crop 2 more highly - eliminates the planting of crop 1 in favour of a second planting of crop 2."
   ]
  },
  {
   "cell_type": "markdown",
   "metadata": {},
   "source": [
    "### Generate a column to start with.\n",
    "\n",
    "Naively construct some columns, enough to satisfy demand."
   ]
  },
  {
   "cell_type": "code",
   "execution_count": 14,
   "metadata": {
    "scrolled": true
   },
   "outputs": [
    {
     "data": {
      "text/plain": [
       "2-element Array{Dict{String,Any},1}:\n",
       " Dict(\"production\"=>[1, 0, 1],\"schedule\"=>\"|1| | | | |F| | |3| | | |\")\n",
       " Dict(\"production\"=>[0, 1, 1],\"schedule\"=>\"|2| | |F| | | | |3| | | |\")"
      ]
     },
     "execution_count": 14,
     "metadata": {},
     "output_type": "execute_result"
    }
   ],
   "source": [
    "# Create some naive columns.\n",
    "objective, production, schedule = price_crop_rotation([2, 1, 1])\n",
    "columns = [\n",
    "    Dict(\n",
    "        \"production\" => [1, 0, 1],\n",
    "        \"schedule\" => \"|1| | | | |F| | |3| | | |\"),\n",
    "    Dict(\n",
    "        \"production\" => [0, 1, 1],\n",
    "        \"schedule\" => \"|2| | |F| | | | |3| | | |\")\n",
    "]"
   ]
  },
  {
   "cell_type": "code",
   "execution_count": 15,
   "metadata": {},
   "outputs": [
    {
     "data": {
      "text/plain": [
       "3-element Array{Int64,1}:\n",
       " 1\n",
       " 5\n",
       " 1"
      ]
     },
     "execution_count": 15,
     "metadata": {},
     "output_type": "execute_result"
    }
   ],
   "source": [
    "# Define demand to be satisfied for each crop.\n",
    "\n",
    "d = [1, 5, 1]"
   ]
  },
  {
   "cell_type": "markdown",
   "metadata": {
    "scrolled": true
   },
   "source": [
    "### Construct the initial master problem with the available crop schedules.\n",
    "\n",
    "There is only one schedule in the initial model, and it produces one unit of each crop.\n",
    "Each demand constraint therefore enforces at least $d_i$ units of area to satisfy demand for crop $i$."
   ]
  },
  {
   "cell_type": "code",
   "execution_count": 16,
   "metadata": {},
   "outputs": [
    {
     "data": {
      "text/latex": [
       "$$ \\begin{alignat*}{1}\\min\\quad & a_{1} + a_{2}\\\\\n",
       "\\text{Subject to} \\quad & a_{1} \\geq 1\\\\\n",
       " & a_{2} \\geq 5\\\\\n",
       " & a_{1} + a_{2} \\geq 1\\\\\n",
       " & a_{i} \\geq 0 \\quad\\forall i \\in \\{1,2\\}\\\\\n",
       "\\end{alignat*}\n",
       " $$"
      ],
      "text/plain": [
       "Minimization problem with:\n",
       " * 3 linear constraints\n",
       " * 2 variables\n",
       "Solver is GLPKMathProgInterface.GLPKInterfaceLP.GLPK"
      ]
     },
     "execution_count": 16,
     "metadata": {},
     "output_type": "execute_result"
    }
   ],
   "source": [
    "# Linear master problem.\n",
    "master_model = Model(solver=GLPKSolverLP())\n",
    "\n",
    "# Variables assign planting areas.\n",
    "@variable(master_model, a[i in 1:length(columns)] >= 0)\n",
    "\n",
    "# Capture the area variables along with the stored column data.\n",
    "for i in 1:length(columns)\n",
    "    columns[i][\"area\"] = a[i]\n",
    "end\n",
    "\n",
    "# Uses the production associated with each column to generate coverage constraint.\n",
    "# Note that this creates an object demand_covered which represents the constraint;\n",
    "# we can use this to get dual values later.\n",
    "@constraint(\n",
    "    master_model, demand_covered[j in 1:length(d)],\n",
    "    sum(columns[i][\"production\"][j] * a[i] for i in 1:length(columns)) >= d[j])\n",
    "@objective(master_model, Min, sum(column[\"area\"] for column in columns))\n",
    "master_model"
   ]
  },
  {
   "cell_type": "markdown",
   "metadata": {},
   "source": [
    "### Obtain the dual values and solve the pricing problem to generate a new column.\n",
    "\n",
    "\\begin{alignat*}{2}\n",
    "& z = \\min \\,\\, 1 - \\sum_{i \\in C} \\sum_{j \\in I[i]} \\pi{i} x_{ij} \\\\\n",
    "\\end{alignat*}\n",
    "\n",
    "An extra schedule is added which produces more of crop 2, resulting in a new variable added to the master problem which can satisfy the higher demand for that crop."
   ]
  },
  {
   "cell_type": "code",
   "execution_count": 17,
   "metadata": {},
   "outputs": [
    {
     "data": {
      "text/plain": [
       "6.0"
      ]
     },
     "execution_count": 17,
     "metadata": {},
     "output_type": "execute_result"
    }
   ],
   "source": [
    "solve(master_model)\n",
    "getobjectivevalue(master_model)"
   ]
  },
  {
   "cell_type": "code",
   "execution_count": 18,
   "metadata": {},
   "outputs": [
    {
     "data": {
      "text/plain": [
       "(-1.0, [0.0, 2.0, 1.0], \"|F|2| | | |2| | | | |3| |\")"
      ]
     },
     "execution_count": 18,
     "metadata": {},
     "output_type": "execute_result"
    }
   ],
   "source": [
    "objective, production, schedule = price_crop_rotation(getdual(demand_covered))"
   ]
  },
  {
   "cell_type": "markdown",
   "metadata": {},
   "source": [
    "Objective is less than 0: negative reduced costs indicate an improving column, so add it to the model."
   ]
  },
  {
   "cell_type": "code",
   "execution_count": 19,
   "metadata": {},
   "outputs": [
    {
     "data": {
      "text/latex": [
       "$$ \\begin{alignat*}{1}\\min\\quad & a_{1} + a_{2} + a_3\\\\\n",
       "\\text{Subject to} \\quad & a_{1} \\geq 1\\\\\n",
       " & a_{2} + 2 a_3 \\geq 5\\\\\n",
       " & a_{1} + a_{2} + a_3 \\geq 1\\\\\n",
       " & a_{i} \\geq 0 \\quad\\forall i \\in \\{1,2\\}\\\\\n",
       " & a_3 \\geq 0\\\\\n",
       "\\end{alignat*}\n",
       " $$"
      ],
      "text/plain": [
       "Minimization problem with:\n",
       " * 3 linear constraints\n",
       " * 3 variables\n",
       "Solver is GLPKMathProgInterface.GLPKInterfaceLP.GLPK"
      ]
     },
     "execution_count": 19,
     "metadata": {},
     "output_type": "execute_result"
    }
   ],
   "source": [
    "# Create an additional variable.\n",
    "# This modifies the model so we can reoptimise.\n",
    "@variable(\n",
    "    master_model, a_3 >= 0, objective=1.0,\n",
    "    inconstraints=demand_covered, coefficients=production)\n",
    "master_model"
   ]
  },
  {
   "cell_type": "code",
   "execution_count": 20,
   "metadata": {},
   "outputs": [
    {
     "data": {
      "text/plain": [
       "3-element Array{Dict{String,Any},1}:\n",
       " Dict(\"production\"=>[1, 0, 1],\"area\"=>a[1],\"schedule\"=>\"|1| | | | |F| | |3| | | |\")     \n",
       " Dict(\"production\"=>[0, 1, 1],\"area\"=>a[2],\"schedule\"=>\"|2| | |F| | | | |3| | | |\")     \n",
       " Dict(\"production\"=>[0.0, 2.0, 1.0],\"area\"=>a_3,\"schedule\"=>\"|F|2| | | |2| | | | |3| |\")"
      ]
     },
     "execution_count": 20,
     "metadata": {},
     "output_type": "execute_result"
    }
   ],
   "source": [
    "# Keep track of the new column data.\n",
    "new_column = Dict(\n",
    "    \"production\" => production,\n",
    "    \"schedule\" => schedule,\n",
    "    \"area\" => a_3)\n",
    "push!(columns, new_column)\n",
    "columns"
   ]
  },
  {
   "cell_type": "markdown",
   "metadata": {},
   "source": [
    "Reoptimise the master (total required area reduced from 6 units to 3.5)."
   ]
  },
  {
   "cell_type": "code",
   "execution_count": 21,
   "metadata": {},
   "outputs": [
    {
     "data": {
      "text/plain": [
       "3.5"
      ]
     },
     "execution_count": 21,
     "metadata": {},
     "output_type": "execute_result"
    }
   ],
   "source": [
    "solve(master_model)\n",
    "getobjectivevalue(master_model)"
   ]
  },
  {
   "cell_type": "markdown",
   "metadata": {},
   "source": [
    "## Complete Loop\n",
    "\n",
    "The below handles the full process."
   ]
  },
  {
   "cell_type": "code",
   "execution_count": 22,
   "metadata": {
    "scrolled": false
   },
   "outputs": [
    {
     "data": {
      "text/plain": [
       "\"COLUMN ADDED\""
      ]
     },
     "metadata": {},
     "output_type": "display_data"
    },
    {
     "data": {
      "text/plain": [
       "Dict{String,Any} with 3 entries:\n",
       "  \"production\" => [0.0, 2.0, 1.0]\n",
       "  \"area\"       => z\n",
       "  \"schedule\"   => \"|F|2| | | |2| | | | |3| |\""
      ]
     },
     "metadata": {},
     "output_type": "display_data"
    },
    {
     "data": {
      "text/plain": [
       "\"DONE\""
      ]
     },
     "metadata": {},
     "output_type": "display_data"
    }
   ],
   "source": [
    "# Create some naive columns.\n",
    "objective, production, schedule = price_crop_rotation([2, 1, 1])\n",
    "columns = [\n",
    "    Dict(\n",
    "        \"production\" => [1, 0, 1],\n",
    "        \"schedule\" => \"|1| | | | |F| | |3| | | |\"),\n",
    "    Dict(\n",
    "        \"production\" => [0, 1, 1],\n",
    "        \"schedule\" => \"|2| | |F| | | | |3| | | |\")\n",
    "]\n",
    "\n",
    "# Construct the master problem.\n",
    "master_model = Model(solver=GLPKSolverLP())\n",
    "@variable(master_model, a[i in 1:length(columns)] >= 0)\n",
    "for i in 1:length(columns)\n",
    "    columns[i][\"area\"] = a[i]\n",
    "end\n",
    "@constraint(\n",
    "    master_model, demand_covered[j in 1:length(d)],\n",
    "    sum(columns[i][\"production\"][j] * a[i] for i in 1:length(columns)) >= d[j])\n",
    "@objective(master_model, Min, sum(column[\"area\"] for column in columns))\n",
    "master_model\n",
    "\n",
    "# Run column generation loop to optimality.\n",
    "while true\n",
    "    solve(master_model)\n",
    "    objective, production, schedule = price_crop_rotation(getdual(demand_covered))\n",
    "    if objective >= 0\n",
    "        display(\"DONE\")\n",
    "        break\n",
    "    end\n",
    "    @variable(\n",
    "        master_model, z >= 0, objective=0.0,\n",
    "        inconstraints=demand_covered, coefficients=production)\n",
    "    new_column = Dict(\"production\" => production, \"schedule\" => schedule, \"area\" => z)\n",
    "    push!(columns, new_column)\n",
    "    display(\"COLUMN ADDED\")\n",
    "    display(new_column)\n",
    "end"
   ]
  },
  {
   "cell_type": "markdown",
   "metadata": {},
   "source": [
    "### View the resulting schedules\n",
    "\n",
    "We can see that this assignment over-covers demand for crop 2, so we may be able to add additional columns to reduce area."
   ]
  },
  {
   "cell_type": "code",
   "execution_count": 23,
   "metadata": {},
   "outputs": [
    {
     "name": "stdout",
     "output_type": "stream",
     "text": [
      "|1| | | | |F| | |3| | | |   AREA = 1.0\n",
      "|2| | |F| | | | |3| | | |   AREA = 0.0\n",
      "|F|2| | | |2| | | | |3| |   AREA = 2.5\n"
     ]
    }
   ],
   "source": [
    "for column in columns\n",
    "    println(column[\"schedule\"], \"   AREA = \", getvalue(column[\"area\"]))\n",
    "end"
   ]
  },
  {
   "cell_type": "code",
   "execution_count": null,
   "metadata": {},
   "outputs": [],
   "source": []
  }
 ],
 "metadata": {
  "@webio": {
   "lastCommId": null,
   "lastKernelId": null
  },
  "kernelspec": {
   "display_name": "Julia 1.0.4",
   "language": "julia",
   "name": "julia-1.0"
  },
  "language_info": {
   "file_extension": ".jl",
   "mimetype": "application/julia",
   "name": "julia",
   "version": "1.0.4"
  }
 },
 "nbformat": 4,
 "nbformat_minor": 2
}
